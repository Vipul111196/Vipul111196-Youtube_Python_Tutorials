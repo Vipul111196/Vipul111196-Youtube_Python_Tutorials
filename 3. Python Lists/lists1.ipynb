{
 "cells": [
  {
   "cell_type": "markdown",
   "metadata": {},
   "source": [
    "# Welcome to Python tutorial to get a hands on experience"
   ]
  },
  {
   "cell_type": "markdown",
   "metadata": {},
   "source": [
    "### Python Lists (Part -I) [25 exercises with solution]"
   ]
  },
  {
   "cell_type": "markdown",
   "metadata": {},
   "source": [
    "1. Write a Python program to sum all the items in a list"
   ]
  },
  {
   "cell_type": "code",
   "execution_count": 3,
   "metadata": {},
   "outputs": [
    {
     "name": "stdout",
     "output_type": "stream",
     "text": [
      "The sum of all items in the list is: 21\n"
     ]
    }
   ],
   "source": [
    "items = [ 1, 2, 3, 4, 5, 6]\n",
    "sum = 0\n",
    "\n",
    "for item in items:\n",
    "    sum = sum + item\n",
    "\n",
    "print(f'The sum of all items in the list is: {sum}')\n"
   ]
  },
  {
   "cell_type": "markdown",
   "metadata": {},
   "source": [
    "2. Write a Python program to multiply all the items in a list."
   ]
  },
  {
   "cell_type": "code",
   "execution_count": 4,
   "metadata": {},
   "outputs": [
    {
     "name": "stdout",
     "output_type": "stream",
     "text": [
      "The multiply of all items in the list is: 720\n"
     ]
    }
   ],
   "source": [
    "items = [ 1, 2, 3, 4, 5, 6]\n",
    "multiply = 1\n",
    "\n",
    "for item in items:\n",
    "    multiply = multiply * item\n",
    "\n",
    "print(f'The multiply of all items in the list is: {multiply}')"
   ]
  },
  {
   "cell_type": "markdown",
   "metadata": {},
   "source": [
    "3. Write a Python program to get the largest number from a list."
   ]
  },
  {
   "cell_type": "code",
   "execution_count": 6,
   "metadata": {},
   "outputs": [
    {
     "name": "stdout",
     "output_type": "stream",
     "text": [
      "The maximum of all items in the list is: 6\n"
     ]
    }
   ],
   "source": [
    "items = [ 1, 2, 3, 4, 5, 6]\n",
    "maximum = max(items)\n",
    "print(f'The maximum of all items in the list is: {maximum}')"
   ]
  },
  {
   "cell_type": "markdown",
   "metadata": {},
   "source": [
    "4. Write a Python program to get the smallest number from a list."
   ]
  },
  {
   "cell_type": "code",
   "execution_count": 7,
   "metadata": {},
   "outputs": [
    {
     "name": "stdout",
     "output_type": "stream",
     "text": [
      "The minimum of all items in the list is: 1\n"
     ]
    }
   ],
   "source": [
    "items = [ 1, 2, 3, 4, 5, 6]\n",
    "minimum = min(items)\n",
    "print(f'The minimum of all items in the list is: {minimum}')"
   ]
  },
  {
   "cell_type": "markdown",
   "metadata": {},
   "source": [
    "5. Write a Python program to count the number of strings from a given list of strings. The string length is 2 or more and the first and last characters are the same.\n",
    "- Sample List : ['abc', 'xyz', 'aba', '1221']\n",
    "- Expected Result : 2"
   ]
  },
  {
   "cell_type": "code",
   "execution_count": 8,
   "metadata": {},
   "outputs": [
    {
     "name": "stdout",
     "output_type": "stream",
     "text": [
      "The total items in the list that fullfill the condition are: 2\n",
      "Here is the list of those items: ['aba', '1221']\n"
     ]
    }
   ],
   "source": [
    "items = ['abc', 'xyz', 'aba', '1221']\n",
    "count = 0\n",
    "items_upd = []\n",
    "for item in items:\n",
    "    if len(item) > 2 and item[0] == item[-1]:\n",
    "        count = count + 1\n",
    "        items_upd.append(item)\n",
    "    else:\n",
    "        count = count\n",
    "\n",
    "print(f'The total items in the list that fullfill the condition are: {count}')\n",
    "print(f'Here is the list of those items: {items_upd}')"
   ]
  },
  {
   "cell_type": "markdown",
   "metadata": {},
   "source": [
    "6. Write a Python program to get a list, sorted in increasing order by the last element in each tuple from a given list of non-empty tuples.\n",
    "- Sample List : [(2, 5), (1, 2), (4, 4), (2, 3), (2, 1)]\n",
    "- Expected Result : [(2, 1), (1, 2), (2, 3), (4, 4), (2, 5)]"
   ]
  },
  {
   "cell_type": "code",
   "execution_count": 11,
   "metadata": {},
   "outputs": [
    {
     "name": "stdout",
     "output_type": "stream",
     "text": [
      "1\n"
     ]
    }
   ],
   "source": [
    "items = [(2, 5), (1, 2), (4, 4), (2, 3), (2, 1)]\n",
    "items_upd = []\n",
    "indexes = []\n",
    "smallest_num = 0\n",
    "for index, item in enumerate(items):\n",
    "    if item[1] < smallest_num:\n",
    "        smallest_num = item[1]\n",
    "        indexes.append[index]\n",
    "    else: "
   ]
  },
  {
   "cell_type": "code",
   "execution_count": 15,
   "metadata": {},
   "outputs": [
    {
     "data": {
      "text/plain": [
       "4"
      ]
     },
     "execution_count": 15,
     "metadata": {},
     "output_type": "execute_result"
    }
   ],
   "source": []
  },
  {
   "cell_type": "code",
   "execution_count": null,
   "metadata": {},
   "outputs": [],
   "source": [
    "items_upd = []\n",
    "smallest_num = 0\n",
    "for index, item in enumerate(items):\n",
    "    if item[1] < smallest_num:\n"
   ]
  },
  {
   "cell_type": "markdown",
   "metadata": {},
   "source": [
    "7. Write a Python program to remove duplicates from a list."
   ]
  },
  {
   "cell_type": "code",
   "execution_count": 20,
   "metadata": {},
   "outputs": [
    {
     "name": "stdout",
     "output_type": "stream",
     "text": [
      "[1, 2, 3, 4, 5, 6]\n"
     ]
    }
   ],
   "source": [
    "items = [ 1, 2, 3, 4, 5, 5, 4, 4, 3, 3, 6, 6]\n",
    "item2 = []\n",
    "\n",
    "for item in items:\n",
    "    if item not in item2:\n",
    "        item2.append(item)\n",
    "\n",
    "items = item2\n",
    "del item2\n",
    "print(items)\n"
   ]
  },
  {
   "cell_type": "code",
   "execution_count": 22,
   "metadata": {},
   "outputs": [
    {
     "name": "stdout",
     "output_type": "stream",
     "text": [
      "[1, 2, 3, 4, 5, 6]\n"
     ]
    }
   ],
   "source": [
    "items = [ 1, 2, 3, 4, 5, 5, 4, 4, 3, 3, 6, 6]\n",
    "\n",
    "unique_items = list(set(items))\n",
    "print(unique_items)"
   ]
  },
  {
   "cell_type": "markdown",
   "metadata": {},
   "source": [
    "8. Write a Python program to check if a list is empty or not."
   ]
  },
  {
   "cell_type": "code",
   "execution_count": 25,
   "metadata": {},
   "outputs": [
    {
     "name": "stdout",
     "output_type": "stream",
     "text": [
      "list [1, 2, 3, 4, 5, 5, 4, 4, 3, 3, 6, 6] in not null\n",
      "list [] is null.\n"
     ]
    }
   ],
   "source": [
    "items = [ 1, 2, 3, 4, 5, 5, 4, 4, 3, 3, 6, 6]\n",
    "item_null = []\n",
    "lists = [items, item_null]\n",
    "for index, list in enumerate(lists):\n",
    "    print(f'list {list} is null.') if len(list) == 0 else print(f'list {list} in not null')"
   ]
  },
  {
   "cell_type": "markdown",
   "metadata": {},
   "source": [
    "9. Write a Python program to clone or copy a list."
   ]
  },
  {
   "cell_type": "code",
   "execution_count": 27,
   "metadata": {},
   "outputs": [
    {
     "name": "stdout",
     "output_type": "stream",
     "text": [
      "[1, 2, 3, 4, 5, 5, 4, 4, 3, 3, 6, 6]\n"
     ]
    }
   ],
   "source": [
    "items = [ 1, 2, 3, 4, 5, 5, 4, 4, 3, 3, 6, 6]\n",
    "items2 = items.copy()\n",
    "print(items2)"
   ]
  },
  {
   "cell_type": "markdown",
   "metadata": {},
   "source": [
    "10. Write a Python program to find the list of words that are longer than n from a given list of words."
   ]
  },
  {
   "cell_type": "code",
   "execution_count": 31,
   "metadata": {},
   "outputs": [
    {
     "name": "stdout",
     "output_type": "stream",
     "text": [
      "['quick', 'brown', 'jumps', 'over', 'lazy']\n"
     ]
    }
   ],
   "source": [
    "sentence = \"The quick brown fox jumps over the lazy dog\"\n",
    "\n",
    "def word_length_comparitor(num: int, sen: str):\n",
    "    words = sen.split(' ')\n",
    "    larger_words = []\n",
    "    for word in words:\n",
    "        if len(word)>num:\n",
    "            larger_words.append(word)\n",
    "        else:\n",
    "            pass\n",
    "    return larger_words\n",
    "\n",
    "large_words = word_length_comparitor(3,sentence)\n",
    "print(large_words)\n",
    "\n",
    "\n"
   ]
  },
  {
   "cell_type": "markdown",
   "metadata": {},
   "source": [
    "11. Write a Python function that takes two lists and returns True if they have at least one common member."
   ]
  },
  {
   "cell_type": "code",
   "execution_count": 42,
   "metadata": {},
   "outputs": [
    {
     "name": "stdout",
     "output_type": "stream",
     "text": [
      "Both lists have 2 items\n",
      "{1, 5}\n"
     ]
    }
   ],
   "source": [
    "list1 = [ 1, 2, 3, 4, 5, 5, 4, 4, 3, 3, 6, 6]\n",
    "list2 = [ 7, 8, 9, 1, 10, 11, 14, 5]\n",
    "\n",
    "def list_comparison(list1, list2):\n",
    "    common_item = []\n",
    "    for item1 in list1:\n",
    "        for item2 in list2:\n",
    "            if item1==item2:\n",
    "                common_item.append(item1)\n",
    "    common_item = set(common_item)\n",
    "    if len(common_item) != 0:\n",
    "        print(f'Both lists have {len(common_item)} items')\n",
    "    else:\n",
    "        print('Both list have no common items')\n",
    "    return common_item\n",
    "\n",
    "common_item = list_comparison(list1, list2)\n",
    "print(common_item)\n",
    "\n"
   ]
  },
  {
   "cell_type": "markdown",
   "metadata": {},
   "source": [
    "12. Write a Python program to print a specified list after removing the 0th, 4th and 5th elements.\n",
    "- Sample List : ['Red', 'Green', 'White', 'Black', 'Pink', 'Yellow']\n",
    "- Expected Output : ['Green', 'White', 'Black']"
   ]
  },
  {
   "cell_type": "code",
   "execution_count": 46,
   "metadata": {},
   "outputs": [
    {
     "name": "stdout",
     "output_type": "stream",
     "text": [
      "['Green', 'White', 'Black']\n"
     ]
    }
   ],
   "source": [
    "list1 = ['Red', 'Green', 'White', 'Black', 'Pink', 'Yellow']\n",
    "list2 = []\n",
    "for index, item in enumerate(list1):\n",
    "    if index not in (0, 4, 5):\n",
    "        list2.append(item)\n",
    "\n",
    "print(list2)\n"
   ]
  },
  {
   "cell_type": "markdown",
   "metadata": {},
   "source": [
    "13. Write a Python program to generate a 3* 4* 6 3D array whose each element is *."
   ]
  },
  {
   "cell_type": "code",
   "execution_count": null,
   "metadata": {},
   "outputs": [],
   "source": []
  }
 ],
 "metadata": {
  "kernelspec": {
   "display_name": "base",
   "language": "python",
   "name": "python3"
  },
  "language_info": {
   "codemirror_mode": {
    "name": "ipython",
    "version": 3
   },
   "file_extension": ".py",
   "mimetype": "text/x-python",
   "name": "python",
   "nbconvert_exporter": "python",
   "pygments_lexer": "ipython3",
   "version": "3.9.13"
  }
 },
 "nbformat": 4,
 "nbformat_minor": 2
}
