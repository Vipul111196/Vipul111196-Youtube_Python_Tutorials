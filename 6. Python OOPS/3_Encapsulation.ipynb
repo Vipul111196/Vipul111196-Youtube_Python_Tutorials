{
 "cells": [
  {
   "cell_type": "markdown",
   "metadata": {},
   "source": [
    "# Welcome to Python tutorial to get a hands on experience"
   ]
  },
  {
   "cell_type": "markdown",
   "metadata": {},
   "source": [
    "## Encapsulation\n",
    "\n",
    "- Explanation:\n",
    "\n",
    "Imagine you have a treasure chest. Inside this chest, you keep your most valuable treasures safe and hidden away. But there's a lock on the chest, and only you know the secret code to open it.\n",
    "\n",
    "Now, let's think about why you do this. The treasure inside the chest is valuable and precious to you, so you want to keep it safe and protected from others who might want to take it. By putting a lock on the chest and keeping the code a secret, you control who can access your treasure.\n",
    "\n",
    "In programming, encapsulation works in a similar way. Instead of a treasure chest, you have an object, and instead of treasures, you have data (like variables) and actions (like functions or methods) that belong to that object.\n",
    "\n",
    "Encapsulation means bundling the data and methods that work on the data together in a way that restricts access from outside. Just like the lock on the treasure chest, encapsulation helps protect the data and methods from being accessed or modified by unauthorized parts of the program.\n",
    "\n",
    "So, when you encapsulate something in programming, you're essentially creating a safe container (like the treasure chest) for your data and methods. This helps keep your code organized, secure, and easier to manage, just like how you keep your treasures safe in your chest.\n",
    "\n",
    "\n",
    "\n",
    "\n",
    "\n",
    "\n"
   ]
  },
  {
   "cell_type": "code",
   "execution_count": 3,
   "metadata": {},
   "outputs": [],
   "source": [
    "class test:\n",
    "    def __init__(self, a, b):\n",
    "        self.a = a\n",
    "        self.b = b\n",
    "        "
   ]
  },
  {
   "cell_type": "code",
   "execution_count": 5,
   "metadata": {},
   "outputs": [
    {
     "name": "stdout",
     "output_type": "stream",
     "text": [
      "45\n",
      "46\n"
     ]
    }
   ],
   "source": [
    "t= test(45, 46)\n",
    "print(t.a)\n",
    "print(t.b)"
   ]
  },
  {
   "cell_type": "code",
   "execution_count": 7,
   "metadata": {},
   "outputs": [
    {
     "name": "stdout",
     "output_type": "stream",
     "text": [
      "50\n"
     ]
    }
   ],
   "source": [
    "t.b = 50 #assigning a new value\n",
    "print(t.b)"
   ]
  },
  {
   "cell_type": "markdown",
   "metadata": {},
   "source": [
    "We can see that we are able to retrive the defined value of a class variable as well as assign a new value to it. It is very dangerous in some cases. Hence, we can say, we need to encapsulate it so any random user who creates an object from this particular class cannot change the values of those variable defined inside the class"
   ]
  },
  {
   "cell_type": "code",
   "execution_count": 8,
   "metadata": {},
   "outputs": [],
   "source": [
    "class car:\n",
    "    def __init__(self, year, make, model, speed):\n",
    "        self.__year = year\n",
    "        self.__make = make\n",
    "        self.__model = model\n",
    "        self.__speed = speed\n",
    "\n",
    "    # This __ before defining the variable name helps us to encapsulate the values inside the class"
   ]
  },
  {
   "cell_type": "code",
   "execution_count": 11,
   "metadata": {},
   "outputs": [
    {
     "data": {
      "text/plain": [
       "'toyota'"
      ]
     },
     "execution_count": 11,
     "metadata": {},
     "output_type": "execute_result"
    }
   ],
   "source": [
    "obj_car = car(2024, 'toyota', 'innova', 180)\n",
    "# obj_car.__make # it won't work\n",
    "obj_car._car__make # However, this way I can be able to retrive it"
   ]
  },
  {
   "cell_type": "code",
   "execution_count": 15,
   "metadata": {},
   "outputs": [
    {
     "data": {
      "text/plain": [
       "2034"
      ]
     },
     "execution_count": 15,
     "metadata": {},
     "output_type": "execute_result"
    }
   ],
   "source": [
    "obj_car._car__make = 2034 # This way we can change the values of the variables inside the class (Only for the creater of the class)\n",
    "obj_car._car__make"
   ]
  },
  {
   "cell_type": "markdown",
   "metadata": {},
   "source": [
    "This way we can encapsulate the values as well as change the values of the variables defined inside the class. However, the user of this class cannot access it, we need to provide a function through which they can change the values or see it"
   ]
  },
  {
   "cell_type": "code",
   "execution_count": 25,
   "metadata": {},
   "outputs": [],
   "source": [
    "class car:\n",
    "    def __init__(self, year, make, model, speed):\n",
    "        self.__year = year\n",
    "        self.__make = make\n",
    "        self.__model = model\n",
    "        self.__speed = speed\n",
    "\n",
    "    def set_speed(self, speed):\n",
    "        self.__speed = 0 if speed < 0 else speed\n",
    "\n",
    "    def get_speed(self):\n",
    "        return self.__speed"
   ]
  },
  {
   "cell_type": "code",
   "execution_count": 26,
   "metadata": {},
   "outputs": [
    {
     "name": "stdout",
     "output_type": "stream",
     "text": [
      "50\n"
     ]
    }
   ],
   "source": [
    "obj_car = car(2024, 'toyota', 'innova', 180)\n",
    "obj_car.set_speed(50)\n",
    "obj_car.get_speed()\n",
    "print(obj_car.get_speed())"
   ]
  },
  {
   "cell_type": "markdown",
   "metadata": {},
   "source": [
    "##### Another Example"
   ]
  },
  {
   "cell_type": "code",
   "execution_count": 33,
   "metadata": {},
   "outputs": [],
   "source": [
    "class bank_account:\n",
    "    def __init__(self, deposit: int):\n",
    "        self.__balance = deposit\n",
    "\n",
    "    def deposit(self, amount:int):\n",
    "        self.__balance = self.__balance if amount <=0 else self.__balance + amount\n",
    "\n",
    "    def withdrawl(self, amount: int):\n",
    "        if amount > 0 and self.__balance > amount:\n",
    "            self.__balance = self.__balance - amount\n",
    "        else:\n",
    "            self.__balance = self.__balance\n",
    "\n",
    "    def get_balance(self):\n",
    "        return self.__balance\n"
   ]
  },
  {
   "cell_type": "code",
   "execution_count": 35,
   "metadata": {},
   "outputs": [
    {
     "data": {
      "text/plain": [
       "1000"
      ]
     },
     "execution_count": 35,
     "metadata": {},
     "output_type": "execute_result"
    }
   ],
   "source": [
    "bank_acc = bank_account(1000)\n",
    "bank_acc.get_balance()"
   ]
  },
  {
   "cell_type": "code",
   "execution_count": 36,
   "metadata": {},
   "outputs": [
    {
     "data": {
      "text/plain": [
       "1500"
      ]
     },
     "execution_count": 36,
     "metadata": {},
     "output_type": "execute_result"
    }
   ],
   "source": [
    "bank_acc.deposit(500)\n",
    "bank_acc.get_balance()"
   ]
  },
  {
   "cell_type": "code",
   "execution_count": 37,
   "metadata": {},
   "outputs": [
    {
     "data": {
      "text/plain": [
       "800"
      ]
     },
     "execution_count": 37,
     "metadata": {},
     "output_type": "execute_result"
    }
   ],
   "source": [
    "bank_acc.withdrawl(700)\n",
    "bank_acc.get_balance()"
   ]
  },
  {
   "cell_type": "markdown",
   "metadata": {},
   "source": [
    "### Thank You!!!"
   ]
  }
 ],
 "metadata": {
  "kernelspec": {
   "display_name": "base",
   "language": "python",
   "name": "python3"
  },
  "language_info": {
   "codemirror_mode": {
    "name": "ipython",
    "version": 3
   },
   "file_extension": ".py",
   "mimetype": "text/x-python",
   "name": "python",
   "nbconvert_exporter": "python",
   "pygments_lexer": "ipython3",
   "version": "3.9.13"
  }
 },
 "nbformat": 4,
 "nbformat_minor": 2
}
