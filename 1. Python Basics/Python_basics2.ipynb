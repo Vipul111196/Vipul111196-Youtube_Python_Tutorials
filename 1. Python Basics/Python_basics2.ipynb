{
 "cells": [
  {
   "cell_type": "markdown",
   "metadata": {},
   "source": [
    "# Welcome to Python tutorial to get a hands on experience"
   ]
  },
  {
   "cell_type": "markdown",
   "metadata": {},
   "source": [
    "### Python basic (Part -I) [25 exercises with solution]"
   ]
  },
  {
   "cell_type": "markdown",
   "metadata": {},
   "source": [
    "1. Print this pattern\n",
    "\n",
    "- x\n",
    "- x x\n",
    "- x x x\n",
    "- x x x x \n",
    "- x x x x x\n"
   ]
  },
  {
   "cell_type": "code",
   "execution_count": 34,
   "metadata": {},
   "outputs": [
    {
     "name": "stdout",
     "output_type": "stream",
     "text": [
      "\n",
      "x \n",
      "x x \n",
      "x x x \n",
      "x x x x \n",
      "x x x x x \n"
     ]
    }
   ],
   "source": [
    "num_of_rows = 5\n",
    "\n",
    "# for i in range(num_of_rows + 1):\n",
    "#     for j in range( i + 1):\n",
    "#         print('x ', end= ' ')\n",
    "#     # print('\\n')\n",
    "        \n",
    "for i in range(num_of_rows + 1):\n",
    "    print('x ' * i, end= '\\n')\n"
   ]
  },
  {
   "cell_type": "markdown",
   "metadata": {},
   "source": [
    "2. Print this pattern\n",
    "\n",
    "- x x x x x x x\n",
    "-  x x x x x x\n",
    "-   x x x x x\n",
    "-    x x x x \n",
    "-     x x x \n",
    "-      x x\n",
    "-       x"
   ]
  },
  {
   "cell_type": "code",
   "execution_count": 35,
   "metadata": {},
   "outputs": [
    {
     "name": "stdout",
     "output_type": "stream",
     "text": [
      " x x x x x x x \n",
      "  x x x x x x \n",
      "   x x x x x \n",
      "    x x x x \n",
      "     x x x \n",
      "      x x \n",
      "       x \n"
     ]
    }
   ],
   "source": [
    "num_of_rows = 7\n",
    "\n",
    "for j,i in enumerate(range(num_of_rows,  0, -1)):\n",
    "    print(' ' * j, 'x ' * i)"
   ]
  },
  {
   "cell_type": "code",
   "execution_count": null,
   "metadata": {},
   "outputs": [],
   "source": [
    "machine = '>>>>VVVV<<<<'\n",
    "machine.count"
   ]
  }
 ],
 "metadata": {
  "kernelspec": {
   "display_name": "base",
   "language": "python",
   "name": "python3"
  },
  "language_info": {
   "codemirror_mode": {
    "name": "ipython",
    "version": 3
   },
   "file_extension": ".py",
   "mimetype": "text/x-python",
   "name": "python",
   "nbconvert_exporter": "python",
   "pygments_lexer": "ipython3",
   "version": "3.9.13"
  }
 },
 "nbformat": 4,
 "nbformat_minor": 2
}
