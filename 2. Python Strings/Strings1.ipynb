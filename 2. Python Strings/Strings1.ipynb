{
 "cells": [
  {
   "cell_type": "markdown",
   "metadata": {},
   "source": [
    "# Welcome to Python tutorial to get a hands on experience"
   ]
  },
  {
   "cell_type": "markdown",
   "metadata": {},
   "source": [
    "### Python Strings (Part -I) [25 exercises with solution]"
   ]
  },
  {
   "cell_type": "markdown",
   "metadata": {},
   "source": [
    "1. Write a Python program to calculate the length of a string."
   ]
  },
  {
   "cell_type": "code",
   "execution_count": 3,
   "metadata": {},
   "outputs": [
    {
     "name": "stdout",
     "output_type": "stream",
     "text": [
      "The length of the given string is: 34\n"
     ]
    }
   ],
   "source": [
    "string = 'Today i am learning python strings'\n",
    "length_of_string = len(string)\n",
    "print(f'The length of the given string is: {length_of_string}')"
   ]
  },
  {
   "cell_type": "markdown",
   "metadata": {},
   "source": [
    "2. Write a Python program to count the number of characters (character frequency) in a string.\n",
    "- Sample String : google.com'\n",
    "- Expected Result : {'g': 2, 'o': 3, 'l': 1, 'e': 1, '.': 1, 'c': 1, 'm': 1}"
   ]
  },
  {
   "cell_type": "code",
   "execution_count": 6,
   "metadata": {},
   "outputs": [
    {
     "name": "stdout",
     "output_type": "stream",
     "text": [
      "{'.': 1, 'o': 3, 'm': 1, 'g': 2, 'l': 1, 'e': 1, 'c': 1}\n"
     ]
    }
   ],
   "source": [
    "# Solution 1\n",
    "\n",
    "String = 'google.com'\n",
    "result ={}\n",
    "\n",
    "for item in set(list(String)):\n",
    "    key = item\n",
    "    value = String.count(item)\n",
    "    result[key] = value\n",
    "\n",
    "print(result)\n"
   ]
  },
  {
   "cell_type": "code",
   "execution_count": 7,
   "metadata": {},
   "outputs": [
    {
     "data": {
      "text/plain": [
       "{'.': 1, 'o': 3, 'm': 1, 'g': 2, 'l': 1, 'e': 1, 'c': 1}"
      ]
     },
     "execution_count": 7,
     "metadata": {},
     "output_type": "execute_result"
    }
   ],
   "source": [
    "# Solution 2\n",
    "\n",
    "def dictionary(string: str):\n",
    "    result ={}\n",
    "\n",
    "    for item in set(list(String)):\n",
    "        key = item\n",
    "        value = String.count(item)\n",
    "        result[key] = value\n",
    "\n",
    "    return result\n",
    "\n",
    "String = 'google.com'\n",
    "dictionary(String)"
   ]
  },
  {
   "cell_type": "markdown",
   "metadata": {},
   "source": [
    "3. Write a Python program to get a string made of the first 2 and last 2 characters of a given string. If the string length is less than 2, return the empty string instead.\n",
    "- Sample String : 'w3resource'\n",
    "    - Expected Result : 'w3ce'\n",
    "\n",
    "- Sample String : 'w3'\n",
    "    - Expected Result : 'w3w3'\n",
    "\n",
    "- Sample String : 'w'\n",
    "    - Expected Result : Empty String"
   ]
  },
  {
   "cell_type": "code",
   "execution_count": 16,
   "metadata": {},
   "outputs": [
    {
     "name": "stdout",
     "output_type": "stream",
     "text": [
      "w3resource\n",
      "w3ce\n",
      "\n",
      "\n",
      "w3\n",
      "w3w3\n",
      "\n",
      "\n",
      "w\n",
      "\n",
      "\n",
      "\n"
     ]
    }
   ],
   "source": [
    "def output(string: str):\n",
    "    if len(string) >= 2:\n",
    "        return print(string[0:2] + string[-2:])\n",
    "    else:\n",
    "        return print(\"\")\n",
    "    \n",
    "string1 = 'w3resource'\n",
    "print(string1)\n",
    "output(string1)\n",
    "print('\\n')\n",
    "\n",
    "string2 = 'w3'\n",
    "print(string2)\n",
    "output(string2)\n",
    "print('\\n')\n",
    "\n",
    "string3 = 'w'\n",
    "print(string3)\n",
    "output(string3)\n",
    "print('\\n')"
   ]
  },
  {
   "cell_type": "markdown",
   "metadata": {},
   "source": [
    "4. Write a Python program to get a string from a given string where all occurrences of its first char have been changed to '$', except the first char itself.\n",
    "- Sample String : 'restart'\n",
    "- Expected Result : 'resta$t'"
   ]
  },
  {
   "cell_type": "code",
   "execution_count": 18,
   "metadata": {},
   "outputs": [
    {
     "name": "stdout",
     "output_type": "stream",
     "text": [
      "resta$t\n"
     ]
    }
   ],
   "source": [
    "string = 'restart'\n",
    "\n",
    "string_new = string.replace(string[0], '$')[1:]\n",
    "string_new = string[0] + string_new\n",
    "print(string_new)"
   ]
  },
  {
   "cell_type": "markdown",
   "metadata": {},
   "source": [
    "5. Write a Python program to get a single string from two given strings, separated by a space and swap the first two characters of each string.\n",
    "- Sample String : 'abc', 'xyz'\n",
    "- Expected Result : 'xyc abz'"
   ]
  },
  {
   "cell_type": "code",
   "execution_count": 21,
   "metadata": {},
   "outputs": [
    {
     "name": "stdout",
     "output_type": "stream",
     "text": [
      "xyc abz\n"
     ]
    }
   ],
   "source": [
    "def swap(string1: str, string2: str):\n",
    "    newstring = string2[:-1]+string1[-1] + \" \" + string1[:-1]+string2[-1]\n",
    "    return print(newstring)\n",
    "\n",
    "string1 = 'abc'\n",
    "string2 = 'xyz'\n",
    "\n",
    "swap(string1, string2)"
   ]
  },
  {
   "cell_type": "markdown",
   "metadata": {},
   "source": [
    "6. Write a Python program to add 'ing' at the end of a given string (length should be at least 3). If the given string already ends with 'ing', add 'ly' instead. If the string length of the given string is less than 3, leave it unchanged.\n",
    "- Sample String : 'abc'\n",
    "- Expected Result : 'abcing'\n",
    "- Sample String : 'string'\n",
    "- Expected Result : 'stringly'"
   ]
  },
  {
   "cell_type": "code",
   "execution_count": 24,
   "metadata": {},
   "outputs": [
    {
     "name": "stdout",
     "output_type": "stream",
     "text": [
      "abc\n",
      "abcing\n",
      "string\n",
      "stringly\n",
      "w\n",
      "w\n"
     ]
    }
   ],
   "source": [
    "def update_String(string: str) -> str:\n",
    "    if len(string) >= 3:\n",
    "        if string.endswith('ing'):\n",
    "            return print(string + \"ly\")\n",
    "        else:\n",
    "            return print(string + \"ing\")\n",
    "    else:\n",
    "        return print(string)\n",
    "\n",
    "    \n",
    "string1 = 'abc'\n",
    "print(string1)\n",
    "update_String(string1)\n",
    "\n",
    "string2 = 'string'\n",
    "print(string2)\n",
    "update_String(string2)\n",
    "\n",
    "string3 = 'w'\n",
    "print(string3)\n",
    "update_String(string3)"
   ]
  },
  {
   "cell_type": "markdown",
   "metadata": {},
   "source": [
    "7. Write a Python program to find the first appearance of the substrings 'not' and 'poor' in a given string. If 'not' follows 'poor', replace the whole 'not'...'poor' substring with 'good'. Return the resulting string.\n",
    "- Sample String : 'The lyrics is not that poor!'\n",
    "- 'The lyrics is poor!'\n",
    "- Expected Result : 'The lyrics is good!'\n",
    "- 'The lyrics is poor!'"
   ]
  },
  {
   "cell_type": "code",
   "execution_count": null,
   "metadata": {},
   "outputs": [],
   "source": []
  },
  {
   "cell_type": "markdown",
   "metadata": {},
   "source": [
    "8. Write a Python function that takes a list of words and return the longest word and the length of the longest one.\n",
    "- Sample Output:\n",
    "- Longest word: Exercises\n",
    "- Length of the longest word: 9"
   ]
  },
  {
   "cell_type": "code",
   "execution_count": 25,
   "metadata": {},
   "outputs": [
    {
     "name": "stdout",
     "output_type": "stream",
     "text": [
      "Longest word: strawberry\n",
      "Length of longest word 10\n"
     ]
    }
   ],
   "source": [
    "random_words = [\"apple\", \"banana\", \"orange\", \"grape\", \"pineapple\", \"strawberry\", \"kiwi\", \"watermelon\", \"blueberry\", \"Exercises\"]\n",
    "length = 0\n",
    "biggest_word = \"\"\n",
    "for item in random_words:\n",
    "    if len(item) > length:\n",
    "        length = len(item)\n",
    "        biggest_word = item\n",
    "    else:\n",
    "        length = length\n",
    "\n",
    "print(f'Longest word: {biggest_word}')\n",
    "print(f'Length of longest word {length}')"
   ]
  },
  {
   "cell_type": "markdown",
   "metadata": {},
   "source": [
    "9. Write a Python program to remove the nth index character from a nonempty string."
   ]
  },
  {
   "cell_type": "code",
   "execution_count": 26,
   "metadata": {},
   "outputs": [
    {
     "name": "stdout",
     "output_type": "stream",
     "text": [
      "Exerise\n"
     ]
    }
   ],
   "source": [
    "def remove_char(string: str, index: int) -> str:\n",
    "    return print(string[0:index] + string[index + 1: ])\n",
    "\n",
    "remove_char('Exercise', 4)"
   ]
  },
  {
   "cell_type": "markdown",
   "metadata": {},
   "source": [
    "10. Write a Python program to change a given string to a newly string where the first and last chars have been exchanged."
   ]
  },
  {
   "cell_type": "code",
   "execution_count": 28,
   "metadata": {},
   "outputs": [
    {
     "name": "stdout",
     "output_type": "stream",
     "text": [
      "ebcda\n"
     ]
    }
   ],
   "source": [
    "def swap_char(string1: str):\n",
    "    newstring = string1[-1] + string1[1:-1] + string1[0]\n",
    "    return print(newstring)\n",
    "\n",
    "string1 = 'abcde'\n",
    "swap_char(string1)"
   ]
  },
  {
   "cell_type": "markdown",
   "metadata": {},
   "source": [
    "11. Write a Python program to remove characters that have odd index values in a given string."
   ]
  },
  {
   "cell_type": "code",
   "execution_count": 29,
   "metadata": {},
   "outputs": [
    {
     "name": "stdout",
     "output_type": "stream",
     "text": [
      "xrie\n"
     ]
    }
   ],
   "source": [
    "def remove_odd_char(string: str) -> str:\n",
    "    return print(string[1::2])\n",
    "\n",
    "remove_odd_char('Exercise')"
   ]
  },
  {
   "cell_type": "markdown",
   "metadata": {},
   "source": [
    "12. Write a Python program to count the occurrences of each word in a given sentence."
   ]
  },
  {
   "cell_type": "code",
   "execution_count": 45,
   "metadata": {},
   "outputs": [
    {
     "name": "stdout",
     "output_type": "stream",
     "text": [
      "['i', 'am', 'learning', 'python', 'today', 'because', 'i', 'love', 'python']\n",
      "This is the word count in a sentence\n",
      "{'today': 1, 'i': 2, 'learning': 1, 'python': 2, 'love': 1, 'am': 1, 'because': 1}\n"
     ]
    }
   ],
   "source": [
    "sentence = \"I am learning Python today because i love python\"\n",
    "\n",
    "sentence = sentence.lower()\n",
    "word_list = sentence.split(' ')\n",
    "\n",
    "print(word_list)\n",
    "\n",
    "dictionary ={}\n",
    "for item in set(word_list):\n",
    "    key = item\n",
    "    value = word_list.count(item)\n",
    "    dictionary[item] = value\n",
    "\n",
    "print('This is the word count in a sentence')\n",
    "print(dictionary)"
   ]
  },
  {
   "cell_type": "markdown",
   "metadata": {},
   "source": [
    "13. Write a Python script that takes input from the user and displays that input back in upper and lower cases."
   ]
  },
  {
   "cell_type": "code",
   "execution_count": 46,
   "metadata": {},
   "outputs": [
    {
     "name": "stdout",
     "output_type": "stream",
     "text": [
      "I AM LEARNING PYTHON TODAY BECAUSE I LOVE PYTHON\n",
      "i am learning python today because i love python\n"
     ]
    }
   ],
   "source": [
    "sentence = \"I am learning Python today because i love python\"\n",
    "\n",
    "upper_sentence = sentence.upper()\n",
    "lower_sentence = sentence.lower()\n",
    "\n",
    "print(upper_sentence)\n",
    "print(lower_sentence)"
   ]
  },
  {
   "cell_type": "markdown",
   "metadata": {},
   "source": [
    "14. Write a Python program that converts a list of words and prints the distinct words in sorted form (alphanumerically).\n",
    "- Sample Words : red, white, black, red, green, black\n",
    "- Expected Result : black, green, red, white"
   ]
  },
  {
   "cell_type": "code",
   "execution_count": 50,
   "metadata": {},
   "outputs": [
    {
     "name": "stdout",
     "output_type": "stream",
     "text": [
      "['black', 'green', 'red', 'white']\n"
     ]
    }
   ],
   "source": [
    "Words = [ 'red', 'white', 'black', 'red', 'green', 'black' ]\n",
    "\n",
    "result = sorted(set(Words))\n",
    "print(result)"
   ]
  },
  {
   "cell_type": "markdown",
   "metadata": {},
   "source": [
    "17. Write a Python function to get a string made of 4 copies of the last two characters of a specified string (length must be at least 2).\n",
    "- Sample function and result :\n",
    "- insert_end('Python') -> onononon\n",
    "- insert_end('Exercises') -> eseseses"
   ]
  },
  {
   "cell_type": "code",
   "execution_count": 47,
   "metadata": {},
   "outputs": [
    {
     "name": "stdout",
     "output_type": "stream",
     "text": [
      "onononon\n"
     ]
    }
   ],
   "source": [
    "def insert_end(string: str):\n",
    "    return print(string[-2:]*4)\n",
    "\n",
    "insert_end('Python')"
   ]
  },
  {
   "cell_type": "markdown",
   "metadata": {},
   "source": [
    "19. Write a Python program to get the last part of a string before a specified character.\n",
    "- input= https://www.w3resource.com/python-exercises\n",
    "- output= https://www.w3resource.com/python"
   ]
  },
  {
   "cell_type": "code",
   "execution_count": 51,
   "metadata": {},
   "outputs": [
    {
     "name": "stdout",
     "output_type": "stream",
     "text": [
      "https://www.w3resource.com/python\n"
     ]
    }
   ],
   "source": [
    "def split_Str(string: str, char: str) -> str:\n",
    "    return print(string.split(char)[0])\n",
    "\n",
    "split_Str('https://www.w3resource.com/python-exercises', '-')"
   ]
  },
  {
   "cell_type": "markdown",
   "metadata": {},
   "source": [
    "20. Write a Python function to reverse a string if its length is a multiple of 4."
   ]
  },
  {
   "cell_type": "code",
   "execution_count": 56,
   "metadata": {},
   "outputs": [
    {
     "name": "stdout",
     "output_type": "stream",
     "text": [
      "16\n",
      "lujiv si eman yM\n"
     ]
    }
   ],
   "source": [
    "string = 'My name is vijul'\n",
    "print(len(string))\n",
    "if len(string)%4 == 0:\n",
    "    new_String = string[::-1]\n",
    "    print(new_String)"
   ]
  },
  {
   "cell_type": "markdown",
   "metadata": {},
   "source": [
    "21. Write a Python function to convert a given string to all uppercase if it contains at least 2 uppercase characters in the first 4 characters."
   ]
  },
  {
   "cell_type": "code",
   "execution_count": 59,
   "metadata": {},
   "outputs": [
    {
     "name": "stdout",
     "output_type": "stream",
     "text": [
      "MY NAME IS VIJUL\n"
     ]
    }
   ],
   "source": [
    "string = 'My Name is vijul'\n",
    "\n",
    "total_upper = 0\n",
    "for item in string[0:4]:\n",
    "    if item.isupper():\n",
    "        total_upper = total_upper + 1\n",
    "    else:\n",
    "        total_upper = total_upper\n",
    "\n",
    "if total_upper >= 2:\n",
    "    new_String = string.upper()\n",
    "    print(new_String)\n",
    "else:\n",
    "    new_String = string\n",
    "    print(new_String)\n"
   ]
  },
  {
   "cell_type": "markdown",
   "metadata": {},
   "source": [
    "23. Write a Python program to remove a newline in Python."
   ]
  },
  {
   "cell_type": "code",
   "execution_count": 61,
   "metadata": {},
   "outputs": [
    {
     "name": "stdout",
     "output_type": "stream",
     "text": [
      "Python Exercises\n",
      "\n",
      "Python Exercises\n"
     ]
    }
   ],
   "source": [
    "# Define a variable 'str1' and assign it the value 'Python Exercises' followed by a newline character.\n",
    "str1 = 'Python Exercises\\n'\n",
    "print(str1)\n",
    "\n",
    "# Use the rstrip() method to remove trailing whitespace characters, including the newline character.\n",
    "# Then, print the modified 'str1' with trailing whitespace removed.\n",
    "print(str1.rstrip()) "
   ]
  },
  {
   "cell_type": "markdown",
   "metadata": {},
   "source": [
    "24. Write a Python program to check whether a string starts with specified characters."
   ]
  },
  {
   "cell_type": "code",
   "execution_count": null,
   "metadata": {},
   "outputs": [],
   "source": []
  },
  {
   "cell_type": "markdown",
   "metadata": {},
   "source": [
    "25. Write a Python program to create a Caesar encryption.\n",
    "\n",
    "Note : In cryptography, a Caesar cipher, also known as Caesar's cipher, the shift cipher, Caesar's code or Caesar shift, is one of the simplest and most widely known encryption techniques. It is a type of substitution cipher in which each letter in the plaintext is replaced by a letter some fixed number of positions down the alphabet. For example, with a left shift of 3, D would be replaced by A, E would become B, and so on. The method is named after Julius Caesar, who used it in his private correspondence."
   ]
  },
  {
   "cell_type": "markdown",
   "metadata": {},
   "source": [
    "26. Write a Python program to display formatted text (width=50) as output."
   ]
  },
  {
   "cell_type": "code",
   "execution_count": 63,
   "metadata": {},
   "outputs": [
    {
     "name": "stdout",
     "output_type": "stream",
     "text": [
      "\n",
      "   Python is a widely used high-level, general-purpose, interpreted,   dynamic programming language.\n",
      "Its design philosophy emphasizes   code readability, and its syntax allows programmers to express\n",
      "concepts in fewer lines of code than possible in languages such   as C++ or Java.\n",
      "\n"
     ]
    }
   ],
   "source": [
    "# Import the 'textwrap' module, which provides text formatting capabilities.\n",
    "import textwrap\n",
    "# Define a multi-line string 'sample_text' with a text content.\n",
    "sample_text = '''\n",
    "  Python is a widely used high-level, general-purpose, interpreted,\n",
    "  dynamic programming language. Its design philosophy emphasizes\n",
    "  code readability, and its syntax allows programmers to express\n",
    "  concepts in fewer lines of code than possible in languages such\n",
    "  as C++ or Java.\n",
    "  '''\n",
    "\n",
    "# Print an empty line for spacing.\n",
    "print()\n",
    "\n",
    "# Use the 'textwrap.fill' function to format the 'sample_text' with a line width of 50 characters.\n",
    "# This function wraps the text to fit within the specified width and prints the result.\n",
    "print(textwrap.fill(sample_text, width=100))\n",
    "\n",
    "# Print an empty line for spacing.\n",
    "print()"
   ]
  },
  {
   "cell_type": "code",
   "execution_count": null,
   "metadata": {},
   "outputs": [],
   "source": []
  }
 ],
 "metadata": {
  "kernelspec": {
   "display_name": "base",
   "language": "python",
   "name": "python3"
  },
  "language_info": {
   "codemirror_mode": {
    "name": "ipython",
    "version": 3
   },
   "file_extension": ".py",
   "mimetype": "text/x-python",
   "name": "python",
   "nbconvert_exporter": "python",
   "pygments_lexer": "ipython3",
   "version": "3.9.13"
  }
 },
 "nbformat": 4,
 "nbformat_minor": 2
}
