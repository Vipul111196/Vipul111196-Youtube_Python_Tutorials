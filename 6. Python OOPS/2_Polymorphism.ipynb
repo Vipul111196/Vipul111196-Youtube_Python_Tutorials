{
 "cells": [
  {
   "cell_type": "markdown",
   "metadata": {},
   "source": [
    "# Welcome to Python tutorial to get a hands on experience"
   ]
  },
  {
   "cell_type": "markdown",
   "metadata": {},
   "source": [
    "## Polymorphism\n",
    "\n",
    "### Polymorphism = Poly + Morphism\n",
    "#### Poly means multiple\n",
    "#### Morphism means state\n",
    "\n",
    "### Theoritical Example:\n",
    "Imagine you have a toy box. Inside the toy box, you have different kinds of toys - cars, planes, and boats. Each of these toys can do something fun, like move.\n",
    "\n",
    "Now, let's talk about playing with these toys. When you play with a car toy, you push it forward, and it moves. When you play with a plane toy, you throw it into the air, and it flies. And when you play with a boat toy, you put it in the water, and it floats.\n",
    "\n",
    "Here's the interesting part: even though each toy moves differently, you play with them in the same way - you interact with them by pushing, throwing, or putting them in water. This is like polymorphism!\n",
    "\n",
    "In programming, polymorphism is like playing with toys. You have different objects (toys) that belong to different classes (types of toys). Each class may have its own unique behavior (method), but you interact with them using the same method name.\n",
    "\n",
    "So, if you have a \"move\" method in your code, you can use it with different objects (toys) without worrying about what type of object it is. Just like how you play with different toys in the toy box without worrying about what kind of toy it is.\n",
    "\n",
    "This ability to treat different objects in a uniform way is called polymorphism. It makes programming more flexible and fun, just like playing with toys!"
   ]
  },
  {
   "cell_type": "markdown",
   "metadata": {},
   "source": [
    "### Now let' practice Polymorphism"
   ]
  },
  {
   "cell_type": "code",
   "execution_count": 1,
   "metadata": {},
   "outputs": [],
   "source": [
    "def test(a,b):\n",
    "    return a+b"
   ]
  },
  {
   "cell_type": "code",
   "execution_count": 3,
   "metadata": {},
   "outputs": [
    {
     "name": "stdout",
     "output_type": "stream",
     "text": [
      "9\n"
     ]
    }
   ],
   "source": [
    "result = test(4,5)\n",
    "print(result)"
   ]
  },
  {
   "cell_type": "code",
   "execution_count": 4,
   "metadata": {},
   "outputs": [
    {
     "name": "stdout",
     "output_type": "stream",
     "text": [
      "ABC XYZ\n"
     ]
    }
   ],
   "source": [
    "result2 = test('ABC ', 'XYZ')\n",
    "print(result2)"
   ]
  },
  {
   "cell_type": "markdown",
   "metadata": {},
   "source": [
    "Here, we can say this function is showing polymorphism effect because even if we are giving different types of input it is behaving accordingly and giving us the expected output."
   ]
  },
  {
   "cell_type": "code",
   "execution_count": 7,
   "metadata": {},
   "outputs": [
    {
     "name": "stdout",
     "output_type": "stream",
     "text": [
      "[1, 2, 3, 'XYZ', 'abc', 'def']\n"
     ]
    }
   ],
   "source": [
    "result3 = test([ 1, 2, 3], ['XYZ', 'abc', 'def'])\n",
    "print(result3)"
   ]
  },
  {
   "cell_type": "markdown",
   "metadata": {},
   "source": [
    "Now, let's see in terms of Class"
   ]
  },
  {
   "cell_type": "code",
   "execution_count": 8,
   "metadata": {},
   "outputs": [],
   "source": [
    "class data_science:\n",
    "    def syllabus(self):\n",
    "        print('This is my method for data science')\n",
    "\n",
    "class web_dev:\n",
    "    def syllabus(self):\n",
    "        print('This is my method for web development')"
   ]
  },
  {
   "cell_type": "code",
   "execution_count": 9,
   "metadata": {},
   "outputs": [],
   "source": [
    "def class_object(class_obj):\n",
    "    for i in class_obj:\n",
    "        i.syllabus()"
   ]
  },
  {
   "cell_type": "code",
   "execution_count": 10,
   "metadata": {},
   "outputs": [],
   "source": [
    "obj_data_science = data_science()\n",
    "obj_web_dev = web_dev()\n",
    "\n",
    "obj = [obj_data_science, obj_web_dev]"
   ]
  },
  {
   "cell_type": "code",
   "execution_count": 11,
   "metadata": {},
   "outputs": [
    {
     "name": "stdout",
     "output_type": "stream",
     "text": [
      "This is my method for data science\n",
      "This is my method for web development\n"
     ]
    }
   ],
   "source": [
    "class_object(obj)"
   ]
  },
  {
   "cell_type": "markdown",
   "metadata": {},
   "source": [
    "So, here we can say that the function is behaving differently depending upon different type of classes\n",
    "same as pushing function works differently for car, plane and boat as it makes the object move, fly and float respectively"
   ]
  },
  {
   "cell_type": "markdown",
   "metadata": {},
   "source": [
    "### Thank You!!!"
   ]
  }
 ],
 "metadata": {
  "kernelspec": {
   "display_name": "base",
   "language": "python",
   "name": "python3"
  },
  "language_info": {
   "codemirror_mode": {
    "name": "ipython",
    "version": 3
   },
   "file_extension": ".py",
   "mimetype": "text/x-python",
   "name": "python",
   "nbconvert_exporter": "python",
   "pygments_lexer": "ipython3",
   "version": "3.9.13"
  }
 },
 "nbformat": 4,
 "nbformat_minor": 2
}
