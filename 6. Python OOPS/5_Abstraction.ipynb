{
 "cells": [
  {
   "cell_type": "markdown",
   "metadata": {},
   "source": [
    "# Welcome to Python tutorial to get a hands on experience"
   ]
  },
  {
   "cell_type": "markdown",
   "metadata": {},
   "source": [
    "## Abstraction\n",
    "\n",
    "- Explanation:\n",
    "\n",
    "Imagine you have a toy robot. It can do many things like walk, talk, and dance. But you don't need to know how it works inside to play with it. You just press a button to make it walk, another button to make it talk, and so on.\n",
    "\n",
    "Now, think about why you don't need to know how the robot works inside. It's because someone has already figured out how to make it do those things, and they've hidden all the complicated parts inside. All you see are the buttons and actions you can take.\n",
    "\n",
    "In programming, abstraction works in a similar way. It's like using a remote control for your toy robot. You don't need to know how the robot's motors, gears, or circuits work inside. You just need to know how to use the remote control to make it do what you want.\n",
    "\n",
    "Abstraction in programming means hiding the complex details of how something works and only showing the essential parts that you need to use. It makes it easier to work with complex systems by simplifying the interface.\n",
    "\n",
    "So, when you use a computer or a smartphone, you don't need to know how the software or hardware inside works in detail. You just need to know how to interact with it using the buttons, touch screen, or voice commands. That's abstraction!\n"
   ]
  },
  {
   "cell_type": "markdown",
   "metadata": {},
   "source": [
    "#### Understanding Abstract Methods and Classes:\n",
    "\n",
    "An abstract method is a method that is declared, but does not contain implementation. An abstract method in a base class identifies the functionality that should be implemented by all its subclasses. However, since the implementation of an abstract method would differ from one subclass to another, often the method body comprises just a pass statement. Every subclass of the base class will ride this method with its implementation. A class containing abstract methods is called abstract class.Python provides the abc module to use the abstraction in the Python program,"
   ]
  },
  {
   "cell_type": "code",
   "execution_count": 15,
   "metadata": {},
   "outputs": [],
   "source": [
    "from abc import ABC    \n",
    "class ClassName(ABC):\n",
    "    pass"
   ]
  },
  {
   "cell_type": "code",
   "execution_count": 18,
   "metadata": {},
   "outputs": [],
   "source": [
    "import abc\n",
    "\n",
    "class Institution:\n",
    "\n",
    "    @abc.abstractmethod\n",
    "    def student_details(self):\n",
    "        pass\n",
    "\n",
    "    @abc.abstractmethod\n",
    "    def student_assignment(self):\n",
    "        pass\n",
    "    \n",
    "    @abc.abstractmethod\n",
    "    def student_marks(self):\n",
    "        pass"
   ]
  },
  {
   "cell_type": "code",
   "execution_count": 19,
   "metadata": {},
   "outputs": [],
   "source": [
    "class university(Institution):\n",
    "\n",
    "    def student_details(self):\n",
    "        return \"It will try to return a details of student detail in the university\"\n",
    "    \n",
    "    def student_assignment(self):\n",
    "        return \"It will try to return a details of student university assignment\""
   ]
  },
  {
   "cell_type": "code",
   "execution_count": 20,
   "metadata": {},
   "outputs": [],
   "source": [
    "class coaching(Institution):\n",
    "\n",
    "    def student_details(self):\n",
    "        return \"This will return of student details in the coaching\"\n",
    "    \n",
    "    def student_assignment(self):\n",
    "        return \"This will return the details of student assignment in the coaching\"\n",
    "    \n",
    "    def student_marks(self):\n",
    "        return super().student_marks()"
   ]
  },
  {
   "cell_type": "code",
   "execution_count": 24,
   "metadata": {},
   "outputs": [
    {
     "name": "stdout",
     "output_type": "stream",
     "text": [
      "It will try to return a details of student university assignment\n"
     ]
    }
   ],
   "source": [
    "university_obj = university()\n",
    "print(university_obj.student_assignment())"
   ]
  },
  {
   "cell_type": "code",
   "execution_count": 23,
   "metadata": {},
   "outputs": [
    {
     "name": "stdout",
     "output_type": "stream",
     "text": [
      "None\n"
     ]
    }
   ],
   "source": [
    "coaching_obj = coaching()\n",
    "print(coaching_obj.student_marks())"
   ]
  },
  {
   "cell_type": "markdown",
   "metadata": {},
   "source": [
    "### Example 2"
   ]
  },
  {
   "cell_type": "markdown",
   "metadata": {},
   "source": [
    "In Python, the `abc` module stands for \"Abstract Base Classes\". It provides infrastructure for defining abstract base classes (ABCs) and working with them.\n",
    "\n",
    "An abstract base class is a class that cannot be instantiated directly, but instead serves as a template for other classes to inherit from. Abstract base classes often contain one or more abstract methods, which are methods that must be implemented by subclasses.\n",
    "\n",
    "When you import `abc`, you gain access to tools for defining and working with abstract base classes. One of the most commonly used decorators provided by the `abc` module is `@abstractmethod`. This decorator is used to mark a method as abstract within an abstract base class. It signals that any concrete subclass of the abstract base class must implement this method.\n",
    "\n",
    "Here's an example to illustrate its usage:"
   ]
  },
  {
   "cell_type": "code",
   "execution_count": null,
   "metadata": {},
   "outputs": [],
   "source": [
    "from abc import ABC, abstractmethod\n",
    "\n",
    "class Animal(ABC):  # Animal is an abstract base class\n",
    "    @abstractmethod\n",
    "    def make_sound(self):  # This is an abstract method\n",
    "        pass\n",
    "\n",
    "class Dog(Animal):  # Dog is a concrete subclass of Animal\n",
    "    def make_sound(self):  # Dog implements the abstract method\n",
    "        print(\"Woof!\")\n",
    "\n",
    "class Cat(Animal):  # Cat is a concrete subclass of Animal\n",
    "    def make_sound(self):  # Cat implements the abstract method\n",
    "        print(\"Meow!\")\n",
    "\n",
    "# Attempting to instantiate Animal directly would raise TypeError\n",
    "# animal = Animal()  # This would raise TypeError: Can't instantiate abstract class Animal with abstract methods make_sound\n",
    "\n",
    "# Instantiate concrete subclasses\n",
    "dog = Dog()\n",
    "cat = Cat()\n",
    "\n",
    "# Call the implemented method on the concrete instances\n",
    "dog.make_sound()  # Output: Woof!\n",
    "cat.make_sound()  # Output: Meow!\n"
   ]
  },
  {
   "cell_type": "markdown",
   "metadata": {},
   "source": [
    "it is necessary to use `@abstractmethod` just above the method declaration in the abstract base class to mark it as abstract. This decorator indicates to Python that any subclass of the abstract base class must implement this method. If a subclass fails to implement an abstract method defined in the abstract base class, it will raise a `TypeError` at runtime."
   ]
  },
  {
   "cell_type": "code",
   "execution_count": 25,
   "metadata": {},
   "outputs": [
    {
     "name": "stdout",
     "output_type": "stream",
     "text": [
      "TypeError: Can't instantiate abstract class Dog with abstract method make_sound\n"
     ]
    }
   ],
   "source": [
    "from abc import ABC, abstractmethod\n",
    "\n",
    "class Animal(ABC):\n",
    "    @abstractmethod\n",
    "    def make_sound(self):\n",
    "        pass\n",
    "\n",
    "class Dog(Animal):\n",
    "    pass  # Dog class does not implement the required abstract method make_sound\n",
    "\n",
    "# Attempting to instantiate Dog directly would raise a TypeError\n",
    "try:\n",
    "    dog = Dog()  # This would raise TypeError: Can't instantiate abstract class Dog with abstract methods make_sound\n",
    "except TypeError as e:\n",
    "    print(\"TypeError:\", e)\n"
   ]
  },
  {
   "cell_type": "code",
   "execution_count": null,
   "metadata": {},
   "outputs": [],
   "source": []
  }
 ],
 "metadata": {
  "kernelspec": {
   "display_name": "base",
   "language": "python",
   "name": "python3"
  },
  "language_info": {
   "codemirror_mode": {
    "name": "ipython",
    "version": 3
   },
   "file_extension": ".py",
   "mimetype": "text/x-python",
   "name": "python",
   "nbconvert_exporter": "python",
   "pygments_lexer": "ipython3",
   "version": "3.9.13"
  }
 },
 "nbformat": 4,
 "nbformat_minor": 2
}
