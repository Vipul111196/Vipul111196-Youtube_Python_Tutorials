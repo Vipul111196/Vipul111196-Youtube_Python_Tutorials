{
 "cells": [
  {
   "cell_type": "markdown",
   "metadata": {},
   "source": [
    "# Welcome to Python tutorial to get a hands on experience"
   ]
  },
  {
   "cell_type": "markdown",
   "metadata": {},
   "source": [
    "## Inheritance\n",
    "\n",
    "- Explanation:\n",
    "\n",
    "Imagine you have a family tree. At the top of the tree, you have your grandparents, then your parents, and then you. Each generation inherits certain traits from the generation above them. For example, you might have inherited your eye color from your parents or your grandparents.\n",
    "\n",
    "In programming, inheritance works in a similar way. You can have classes that are related to each other in a hierarchical manner, just like the generations in a family tree. \n",
    "\n",
    "Here's how it works:\n",
    "\n",
    "1. **Parent Class (Base Class)**: This is like the grandparents at the top of the family tree. It's a class that defines certain characteristics or behaviors that are shared by multiple other classes.\n",
    "\n",
    "2. **Child Class (Derived Class)**: These are like the parents and you in the family tree. They are classes that inherit traits and behaviors from the parent class. They can also add their own unique traits and behaviors.\n",
    "\n",
    "For example, let's say we have a `Vehicle` class as the parent class. It might have attributes and methods common to all vehicles, like `speed` and `move()`. Then, we can have child classes like `Car`, `Bike`, and `Truck`. These child classes inherit the attributes and methods from the `Vehicle` class but can also have their own unique attributes and methods.\n",
    "\n",
    "So, just like in a family tree where traits and characteristics are passed down through generations, in programming, inheritance allows classes to inherit attributes and methods from parent classes, making it easier to create and manage related classes with shared functionalities."
   ]
  },
  {
   "cell_type": "code",
   "execution_count": 2,
   "metadata": {},
   "outputs": [],
   "source": [
    "class parent:\n",
    "\n",
    "    def test_parent(self):\n",
    "        print('This is my parent class')"
   ]
  },
  {
   "cell_type": "code",
   "execution_count": 3,
   "metadata": {},
   "outputs": [],
   "source": [
    "class child(parent):\n",
    "    pass"
   ]
  },
  {
   "cell_type": "code",
   "execution_count": 4,
   "metadata": {},
   "outputs": [
    {
     "name": "stdout",
     "output_type": "stream",
     "text": [
      "This is my parent class\n"
     ]
    }
   ],
   "source": [
    "child_obj = child()\n",
    "child_obj.test_parent()"
   ]
  },
  {
   "cell_type": "markdown",
   "metadata": {},
   "source": [
    "There are 2 types of Inheritance:\n",
    "\n",
    "1. **Multilevel Inheritance**:\n",
    "   - Multilevel inheritance refers to a scenario in object-oriented programming where a derived class is created from another derived class, which itself is derived from a base class. \n",
    "   - In simpler terms, it's like having a hierarchy of classes where each class inherits from the one above it.\n",
    "   - For example, consider a scenario where you have a `Vehicle` base class. Then, you have a `Car` class derived from `Vehicle`, and finally, you have a `SportsCar` class derived from `Car`. This is multilevel inheritance.\n",
    "\n",
    "2. **Multiple Inheritance**:\n",
    "   - Multiple inheritance, on the other hand, refers to a scenario where a class inherits attributes and methods from more than one base class.\n",
    "   - This means a class can inherit from multiple parent classes.\n",
    "   - For example, you might have a `Bird` class and a `Plane` class, and you want to create a `FlyingMachine` class that can inherit attributes and methods from both `Bird` and `Plane`. This is multiple inheritance.\n",
    "\n",
    "So, in summary:\n",
    "- Multilevel inheritance refers to a hierarchy of classes where each derived class is derived from the previous one.\n",
    "- Multiple inheritance refers to a scenario where a class inherits from more than one base class simultaneously."
   ]
  },
  {
   "cell_type": "markdown",
   "metadata": {},
   "source": [
    "### Example of Multilevel Inheritance"
   ]
  },
  {
   "cell_type": "code",
   "execution_count": 5,
   "metadata": {},
   "outputs": [],
   "source": [
    "class class1:\n",
    "    def test_class1(self):\n",
    "        print('This is my class 1')\n",
    "\n",
    "class class2(class1):\n",
    "    def test_class2(self):\n",
    "        print('This is my class 2')\n",
    "\n",
    "class class3(class2):\n",
    "    def test_class3(self):\n",
    "        print('This is my class 3')"
   ]
  },
  {
   "cell_type": "code",
   "execution_count": 11,
   "metadata": {},
   "outputs": [
    {
     "name": "stdout",
     "output_type": "stream",
     "text": [
      "This is my class 3\n",
      "This is my class 2\n",
      "This is my class 1\n"
     ]
    }
   ],
   "source": [
    "obj_class3 = class3()\n",
    "\n",
    "obj_class3.test_class3()\n",
    "obj_class3.test_class2()\n",
    "obj_class3.test_class1()\n"
   ]
  },
  {
   "cell_type": "markdown",
   "metadata": {},
   "source": [
    "### Example of Multiple Inheritance"
   ]
  },
  {
   "cell_type": "code",
   "execution_count": 13,
   "metadata": {},
   "outputs": [],
   "source": [
    "class class4:\n",
    "    def test_class4(self):\n",
    "        print('This is my class 4')\n",
    "\n",
    "class class5(class1, class4):\n",
    "    pass"
   ]
  },
  {
   "cell_type": "code",
   "execution_count": 14,
   "metadata": {},
   "outputs": [
    {
     "name": "stdout",
     "output_type": "stream",
     "text": [
      "This is my class 4\n",
      "This is my class 1\n"
     ]
    }
   ],
   "source": [
    "obj_class5 = class5()\n",
    "obj_class5.test_class4()\n",
    "obj_class5.test_class1()"
   ]
  },
  {
   "cell_type": "code",
   "execution_count": null,
   "metadata": {},
   "outputs": [],
   "source": []
  }
 ],
 "metadata": {
  "kernelspec": {
   "display_name": "base",
   "language": "python",
   "name": "python3"
  },
  "language_info": {
   "codemirror_mode": {
    "name": "ipython",
    "version": 3
   },
   "file_extension": ".py",
   "mimetype": "text/x-python",
   "name": "python",
   "nbconvert_exporter": "python",
   "pygments_lexer": "ipython3",
   "version": "3.9.13"
  }
 },
 "nbformat": 4,
 "nbformat_minor": 2
}
