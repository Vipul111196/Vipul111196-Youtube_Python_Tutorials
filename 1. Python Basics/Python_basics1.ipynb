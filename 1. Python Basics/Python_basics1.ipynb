{
 "cells": [
  {
   "cell_type": "markdown",
   "metadata": {},
   "source": [
    "# Welcome to Python tutorial to get a hands on experience"
   ]
  },
  {
   "cell_type": "markdown",
   "metadata": {},
   "source": [
    "### Python basic (Part -I) [25 exercises with solution]"
   ]
  },
  {
   "cell_type": "markdown",
   "metadata": {},
   "source": [
    "1. Write a Python program to print the following string in a specific format (see the output).\n",
    "\n",
    "Sample String : \"Twinkle, twinkle, little star, How I wonder what you are! Up above the world so high, Like a diamond in the sky. Twinkle, twinkle, little star, How I wonder what you are\"\n",
    "\n",
    "Output :\n",
    "\n",
    "\"\"\" Twinkle, twinkle, little star,  \n",
    "        How I wonder what you are!  \n",
    "            Up above the world so high,  \n",
    "            Like a diamond in the sky.  \n",
    "    Twinkle, twinkle, little star,  \n",
    "        How I wonder what you are\"\"\""
   ]
  },
  {
   "cell_type": "code",
   "execution_count": 2,
   "metadata": {},
   "outputs": [
    {
     "name": "stdout",
     "output_type": "stream",
     "text": [
      "Twinkle, twinkle, little star, \n",
      "\tHow I wonder what you are! \n",
      "\t\tUp above the world so high, \n",
      "\t\tLike a diamond in the sky. \n",
      "\tTwinkle, twinkle, little star, \n",
      "\t\tHow I wonder what you are\n"
     ]
    }
   ],
   "source": [
    "Sample = \"Twinkle, twinkle, little star, \\n\\tHow I wonder what you are! \\n\\t\\tUp above the world so high, \\n\\t\\tLike a diamond in the sky. \\n\\tTwinkle, twinkle, little star, \\n\\t\\tHow I wonder what you are\"\n",
    "print(Sample)"
   ]
  },
  {
   "cell_type": "markdown",
   "metadata": {},
   "source": [
    "2. Write a Python program to find out what version of Python you are using."
   ]
  },
  {
   "cell_type": "code",
   "execution_count": 6,
   "metadata": {},
   "outputs": [
    {
     "name": "stdout",
     "output_type": "stream",
     "text": [
      "python version\n",
      "3.9.13 (main, Aug 25 2022, 23:51:50) [MSC v.1916 64 bit (AMD64)]\n"
     ]
    }
   ],
   "source": [
    "import sys\n",
    "print('python version')\n",
    "print(sys.version)"
   ]
  },
  {
   "cell_type": "markdown",
   "metadata": {},
   "source": [
    "3. Write a Python program to display the current date and time.\n",
    "\n",
    "    Sample Output :\n",
    "\n",
    "    Current date and time :\n",
    "    - 2014-07-05 14:34:14"
   ]
  },
  {
   "cell_type": "code",
   "execution_count": 24,
   "metadata": {},
   "outputs": [
    {
     "name": "stdout",
     "output_type": "stream",
     "text": [
      "2024-03-25 02:30:32.030263\n",
      "25-03-2024 02:30:32\n"
     ]
    }
   ],
   "source": [
    "from datetime import datetime\n",
    "\n",
    "#To get the date and time in a standart format we can use this\n",
    "current_date_time = datetime.now()\n",
    "print(current_date_time)\n",
    "\n",
    "#To get the date and time in a specific format we can use this\n",
    "current_date_time = datetime.now().strftime('%d-%m-%Y %H:%M:%S')\n",
    "print(current_date_time)"
   ]
  },
  {
   "cell_type": "markdown",
   "metadata": {},
   "source": [
    "4. Write a Python program that calculates the area of a circle based on the radius entered by the user.\n",
    "\n",
    "   Sample Output :\n",
    "   - r = 1.1\n",
    "   - Area = 3.8013271108436504"
   ]
  },
  {
   "cell_type": "code",
   "execution_count": 25,
   "metadata": {},
   "outputs": [
    {
     "name": "stdout",
     "output_type": "stream",
     "text": [
      "3.8013271108436504\n"
     ]
    }
   ],
   "source": [
    "from math import pi\n",
    "radius = 1.1\n",
    "area = pi*(radius)**2\n",
    "print(area)"
   ]
  },
  {
   "cell_type": "markdown",
   "metadata": {},
   "source": [
    "5. Write a Python program that accepts the user's first and last name and prints them in reverse order with a space between them."
   ]
  },
  {
   "cell_type": "code",
   "execution_count": 26,
   "metadata": {},
   "outputs": [
    {
     "name": "stdout",
     "output_type": "stream",
     "text": [
      "XYZ ABC\n"
     ]
    }
   ],
   "source": [
    "first_name = input('Enter the first name of the user: ')\n",
    "last_name = input('Enter the last name of the user: ')\n",
    "\n",
    "full_name = last_name + \" \" + first_name\n",
    "print(full_name)"
   ]
  },
  {
   "cell_type": "markdown",
   "metadata": {},
   "source": [
    "6. \n",
    "    Write a Python program that accepts a sequence of comma-separated numbers from the user and generates a list and a tuple of those numbers.\n",
    "\n",
    "- Sample data : 3, 5, 7, 23\n",
    "- Output :\n",
    "- List : ['3', ' 5', ' 7', ' 23']\n",
    "- Tuple : ('3', ' 5', ' 7', ' 23')"
   ]
  },
  {
   "cell_type": "code",
   "execution_count": 29,
   "metadata": {},
   "outputs": [
    {
     "name": "stdout",
     "output_type": "stream",
     "text": [
      "['21', '45', '63', '87', '53']\n",
      "('21', '45', '63', '87', '53')\n",
      "[21, 45, 63, 87, 53]\n",
      "(21, 45, 63, 87, 53)\n"
     ]
    }
   ],
   "source": [
    "user_number_str_list = [] # stores the number as a string\n",
    "user_number_int_list = [] # stores the number as a string\n",
    "\n",
    "for i in range(5):\n",
    "    user_input = input(f'Enter the number {i+1}: ')\n",
    "    user_number_str_list.append(user_input)\n",
    "    user_number_int_list.append(int(user_input))\n",
    "\n",
    "# converting the list into tuples\n",
    "user_number_str_tuple = tuple(user_number_str_list)\n",
    "user_number_int_tuple = tuple(user_number_int_list)\n",
    "print(user_number_str_list)\n",
    "print(user_number_str_tuple)\n",
    "print(user_number_int_list)\n",
    "print(user_number_int_tuple)"
   ]
  },
  {
   "cell_type": "markdown",
   "metadata": {},
   "source": [
    "7. Write a Python program that accepts a filename from the user and prints the extension of the file.\n",
    "    - Sample filename : abc.java\n",
    "    - Output : java"
   ]
  },
  {
   "cell_type": "code",
   "execution_count": 30,
   "metadata": {},
   "outputs": [
    {
     "name": "stdout",
     "output_type": "stream",
     "text": [
      "py\n"
     ]
    }
   ],
   "source": [
    "file_name = input('Enter the file name with extension: ')\n",
    "ext_name = file_name.split('.')[-1]\n",
    "print(ext_name)"
   ]
  },
  {
   "cell_type": "markdown",
   "metadata": {},
   "source": [
    "8. Write a Python program to display the first and last colors from the following list.\n",
    "\n",
    "color_list = [\"Red\",\"Green\",\"White\" ,\"Black\"]"
   ]
  },
  {
   "cell_type": "code",
   "execution_count": 31,
   "metadata": {},
   "outputs": [
    {
     "name": "stdout",
     "output_type": "stream",
     "text": [
      "First colour : Red and Last colour : Black\n"
     ]
    }
   ],
   "source": [
    "color_list = [\"Red\",\"Green\",\"White\" ,\"Black\"]\n",
    "print(f'First colour : {color_list[0]} and Last colour : {color_list[-1]}')"
   ]
  },
  {
   "cell_type": "markdown",
   "metadata": {},
   "source": [
    "9. Write a Python program to display the examination schedule. (extract the date from exam_st_date).\n",
    "    - exam_st_date = (11, 12, 2014)\n",
    "    - Sample Output : The examination will start from : 11 / 12 / 2014"
   ]
  },
  {
   "cell_type": "code",
   "execution_count": 32,
   "metadata": {},
   "outputs": [
    {
     "name": "stdout",
     "output_type": "stream",
     "text": [
      "The examination date will start from: 11 / 12 / 2014\n"
     ]
    }
   ],
   "source": [
    "exam_st_date = (11, 12, 2014)\n",
    "print(f'The examination date will start from: {exam_st_date[0]} / {exam_st_date[1]} / {exam_st_date[2]}')"
   ]
  },
  {
   "cell_type": "markdown",
   "metadata": {},
   "source": [
    "10. Write a Python program that accepts an integer (n) and computes the value of n+nn+nnn.\n",
    "- Sample value of n is 5\n",
    "- Expected Result : 615"
   ]
  },
  {
   "cell_type": "code",
   "execution_count": 35,
   "metadata": {},
   "outputs": [
    {
     "name": "stdout",
     "output_type": "stream",
     "text": [
      "The sum is 155\n"
     ]
    }
   ],
   "source": [
    "number = int(input('Enter the value of your choice: '))\n",
    "def sum(a: int):\n",
    "    return a + a*a + a*a*a\n",
    "\n",
    "output = sum(number)\n",
    "print(f'The sum is {output}')"
   ]
  },
  {
   "cell_type": "code",
   "execution_count": 38,
   "metadata": {},
   "outputs": [
    {
     "name": "stdout",
     "output_type": "stream",
     "text": [
      "The sum is 615\n"
     ]
    }
   ],
   "source": [
    "number = (input('Enter the value of your choice: '))\n",
    "def sum(a):\n",
    "    b = a + a\n",
    "    c = a + a + a\n",
    "    return (int(a) + int(b) + int(c))\n",
    "\n",
    "output = sum(number)\n",
    "print(f'The sum is {output}')"
   ]
  },
  {
   "cell_type": "markdown",
   "metadata": {},
   "source": [
    "11. Write a Python program to print the documents (syntax, description etc.) of Python built-in function(s).\n",
    "- Sample function : abs()\n",
    "- Expected Result :\n",
    "- abs(number) -> number\n",
    "- Return the absolute value of the argument."
   ]
  },
  {
   "cell_type": "code",
   "execution_count": 39,
   "metadata": {},
   "outputs": [
    {
     "name": "stdout",
     "output_type": "stream",
     "text": [
      "Return the absolute value of the argument.\n"
     ]
    }
   ],
   "source": [
    "print(abs.__doc__)"
   ]
  },
  {
   "cell_type": "markdown",
   "metadata": {},
   "source": [
    "12. Write a Python program that prints the calendar for a given month and year.\n",
    "- Note : Use 'calendar' module."
   ]
  },
  {
   "cell_type": "code",
   "execution_count": 41,
   "metadata": {},
   "outputs": [
    {
     "name": "stdout",
     "output_type": "stream",
     "text": [
      "     March 2024\n",
      "Mo Tu We Th Fr Sa Su\n",
      "             1  2  3\n",
      " 4  5  6  7  8  9 10\n",
      "11 12 13 14 15 16 17\n",
      "18 19 20 21 22 23 24\n",
      "25 26 27 28 29 30 31\n",
      "\n"
     ]
    }
   ],
   "source": [
    "import calendar\n",
    "\n",
    "# current_month_calender = calendar.calendar(theyear= 2024, m=3)\n",
    "current_month_calender = calendar.month(2024,3)\n",
    "print(current_month_calender)"
   ]
  },
  {
   "cell_type": "markdown",
   "metadata": {},
   "source": [
    "14. Write a Python program to calculate the number of days between two dates.\n",
    "    - Sample dates : (2014, 7, 2), (2014, 7, 11)\n",
    "    - Expected output : 9 days"
   ]
  },
  {
   "cell_type": "code",
   "execution_count": 54,
   "metadata": {},
   "outputs": [
    {
     "name": "stdout",
     "output_type": "stream",
     "text": [
      "<class 'datetime.date'>\n",
      "<class 'datetime.timedelta'>\n",
      "9\n"
     ]
    }
   ],
   "source": [
    "from datetime import date\n",
    "\n",
    "date1 = date(2014, 7, 2)\n",
    "date2 = date(2014, 7, 11)\n",
    "print(type(date2))\n",
    "remaining_days = date2 - date1\n",
    "print(type(remaining_days))\n",
    "print(remaining_days.days)"
   ]
  },
  {
   "cell_type": "markdown",
   "metadata": {},
   "source": [
    "15. Write a Python program to get the volume of a sphere with radius six."
   ]
  },
  {
   "cell_type": "code",
   "execution_count": 57,
   "metadata": {},
   "outputs": [
    {
     "name": "stdout",
     "output_type": "stream",
     "text": [
      "678.5840131753953\n"
     ]
    }
   ],
   "source": [
    "def volume(radius: int):\n",
    "    vol = pi*radius**3\n",
    "    return vol\n",
    "\n",
    "rad = int(input('Enter the radius of sphere: '))\n",
    "\n",
    "vol = volume(rad)\n",
    "print(vol)"
   ]
  },
  {
   "cell_type": "markdown",
   "metadata": {},
   "source": [
    "18. Write a Python program to calculate the sum of three given numbers. If the values are equal, return three times their sum."
   ]
  },
  {
   "cell_type": "code",
   "execution_count": 61,
   "metadata": {},
   "outputs": [
    {
     "name": "stdout",
     "output_type": "stream",
     "text": [
      "All the numbers are equal\n",
      "27\n"
     ]
    }
   ],
   "source": [
    "numbers = []\n",
    "for i in range(3):\n",
    "    user_input = int(input(f'Enter the number {i+1}: '))\n",
    "    numbers.append(user_input)\n",
    "\n",
    "# Check for the user numbers\n",
    "if numbers[0] == numbers [1]  == numbers[2]:\n",
    "    print('All the numbers are equal')\n",
    "    print(3*(numbers[0] + numbers[1] + numbers[2]))\n",
    "else:\n",
    "    print('All the numbers are not equal')\n",
    "    print((numbers[0] + numbers[1] + numbers[2]))"
   ]
  },
  {
   "cell_type": "markdown",
   "metadata": {},
   "source": [
    "19. Write a Python program to get a newly-generated string from a given string where \"Is\" has been added to the front. Return the string unchanged if the given string already begins with \"Is\"."
   ]
  },
  {
   "cell_type": "code",
   "execution_count": 63,
   "metadata": {},
   "outputs": [
    {
     "name": "stdout",
     "output_type": "stream",
     "text": [
      "is my name is vipul\n"
     ]
    }
   ],
   "source": [
    "string = input('Enter the sentence: ')\n",
    "\n",
    "if string.startswith(('is', 'IS', 'Is', 'iS')):\n",
    "    print(string)\n",
    "else:\n",
    "    print('Is ' + string)"
   ]
  },
  {
   "cell_type": "markdown",
   "metadata": {},
   "source": [
    "20. Write a Python program that returns a string that is n (non-negative integer) copies of a given string."
   ]
  },
  {
   "cell_type": "code",
   "execution_count": 65,
   "metadata": {},
   "outputs": [
    {
     "name": "stdout",
     "output_type": "stream",
     "text": [
      "not possible\n"
     ]
    }
   ],
   "source": [
    "string = \".test\"\n",
    "\n",
    "n= -1\n",
    "\n",
    "if n > 0:\n",
    "    print(string*3)\n",
    "else:\n",
    "    print('not possible')"
   ]
  },
  {
   "cell_type": "markdown",
   "metadata": {},
   "source": [
    "23. Write a Python program to get n (non-negative integer) copies of the first 2 characters of a given string. Return n copies of the whole string if the length is less than 2."
   ]
  },
  {
   "cell_type": "code",
   "execution_count": 68,
   "metadata": {},
   "outputs": [
    {
     "name": "stdout",
     "output_type": "stream",
     "text": [
      "III\n"
     ]
    }
   ],
   "source": [
    "# string = 'Ich bin _'\n",
    "string = 'I'\n",
    "n= 3\n",
    "if len(string) > 2:\n",
    "    print(string[0:2]*n)\n",
    "else:\n",
    "    print(string*n)"
   ]
  },
  {
   "cell_type": "markdown",
   "metadata": {},
   "source": [
    "24. Write a Python program to test whether a passed letter is a vowel or not."
   ]
  },
  {
   "cell_type": "code",
   "execution_count": 72,
   "metadata": {},
   "outputs": [
    {
     "name": "stdout",
     "output_type": "stream",
     "text": [
      "alphabet b is not a vowel\n"
     ]
    }
   ],
   "source": [
    "letter = 'b'\n",
    "\n",
    "vowel = ['a', 'e', 'i', 'o', 'u']\n",
    "\n",
    "if letter in vowel:\n",
    "    print(f\"alphabet {letter} is a vowel\")\n",
    "else: \n",
    "    print(f\"alphabet {letter} is not a vowel\")"
   ]
  },
  {
   "cell_type": "code",
   "execution_count": 74,
   "metadata": {},
   "outputs": [
    {
     "name": "stdout",
     "output_type": "stream",
     "text": [
      "alphabet a is a vowel\n"
     ]
    }
   ],
   "source": [
    "letter = 'a'\n",
    "\n",
    "vowel = 'aeiou'\n",
    "\n",
    "if letter in vowel:\n",
    "    print(f\"alphabet {letter} is a vowel\")\n",
    "else: \n",
    "    print(f\"alphabet {letter} is not a vowel\")"
   ]
  },
  {
   "cell_type": "markdown",
   "metadata": {},
   "source": [
    "In summary:\n",
    "\n",
    "- Use is to compare object identity (whether two variables refer to the same object).\n",
    "- Use in to check for membership (whether a value exists within a sequence)."
   ]
  },
  {
   "cell_type": "markdown",
   "metadata": {},
   "source": [
    "25. Write a Python program that checks whether a specified value is contained within a group of values.\n",
    "\n",
    "    Test Data :\n",
    "- 3 -> [1, 5, 8, 3] : True\n",
    "- -1 -> [1, 5, 8, 3] : False"
   ]
  },
  {
   "cell_type": "code",
   "execution_count": 77,
   "metadata": {},
   "outputs": [
    {
     "name": "stdout",
     "output_type": "stream",
     "text": [
      "number -1 is not in list\n"
     ]
    }
   ],
   "source": [
    "list1 = [1, 5, 8, 3]\n",
    "\n",
    "number = -1\n",
    "\n",
    "if number in list1:\n",
    "    print(f\"number {number} is in list\")\n",
    "else: \n",
    "    print(f\"number {number} is not in list\")"
   ]
  }
 ],
 "metadata": {
  "kernelspec": {
   "display_name": "base",
   "language": "python",
   "name": "python3"
  },
  "language_info": {
   "codemirror_mode": {
    "name": "ipython",
    "version": 3
   },
   "file_extension": ".py",
   "mimetype": "text/x-python",
   "name": "python",
   "nbconvert_exporter": "python",
   "pygments_lexer": "ipython3",
   "version": "3.9.13"
  }
 },
 "nbformat": 4,
 "nbformat_minor": 2
}
