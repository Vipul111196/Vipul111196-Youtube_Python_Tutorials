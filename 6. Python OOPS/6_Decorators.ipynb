{
 "cells": [
  {
   "cell_type": "markdown",
   "metadata": {},
   "source": [
    "# Welcome to Python tutorial to get a hands on experience"
   ]
  },
  {
   "cell_type": "markdown",
   "metadata": {},
   "source": [
    "## Decorators\n",
    "\n",
    "Imagine you have a magic wand. With this wand, you can add special effects to your toys or drawings. For example, you can make your toy car go faster or your drawing sparkle with glitter.\n",
    "\n",
    "In programming, decorators are like magic spells you can cast on functions or methods. They allow you to add special behavior or modify the functionality of functions without changing their code directly.\n",
    "\n",
    "Here's how it works:\n",
    "\n",
    "1. You define a decorator, which is a function that takes another function as an argument.\n",
    "2. Inside the decorator, you can add some extra code that will be executed before or after the original function.\n",
    "3. Then, you apply the decorator to the function you want to enhance, just like casting a spell on it.\n",
    "\n",
    "So, decorators help you add extra magic to your functions without having to change their original code. They're like shortcuts to adding new features or behaviors to your code.\n",
    "\n",
    "Here are some common decorators and their uses:\n",
    "\n",
    "1. `@staticmethod`: Used to define a static method inside a class. Static methods don't require access to the instance or class variables.\n",
    "   \n",
    "2. `@classmethod`: Used to define a class method inside a class. Class methods have access to the class itself and can be used to create alternative constructors or perform operations related to the class.\n",
    "\n",
    "3. `@property`: Used to define a method that acts like an attribute. It allows you to define getter, setter, and deleter methods for managing attributes in a more controlled way.\n",
    "\n",
    "4. `@staticmethod`: Used to define a static method inside a class. Static methods don't require access to the instance or class variables.\n",
    "\n",
    "5. `@classmethod`: Used to define a class method inside a class. Class methods have access to the class itself and can be used to create alternative constructors or perform operations related to the class.\n",
    "\n",
    "6. `@property`: Used to define a method that acts like an attribute. It allows you to define getter, setter, and deleter methods for managing attributes in a more controlled way.\n",
    "\n",
    "These are just a few examples of decorators, but there are many more out there! They're a powerful tool in Python programming that allows you to add flexibility and enhance the functionality of your code."
   ]
  },
  {
   "cell_type": "code",
   "execution_count": 10,
   "metadata": {},
   "outputs": [],
   "source": [
    "def test():\n",
    "    print('This is the start of my function')\n",
    "    print(4+5)\n",
    "    print('This is the end of my function')"
   ]
  },
  {
   "cell_type": "code",
   "execution_count": 11,
   "metadata": {},
   "outputs": [
    {
     "name": "stdout",
     "output_type": "stream",
     "text": [
      "This is the start of my function\n",
      "9\n",
      "This is the end of my function\n"
     ]
    }
   ],
   "source": [
    "test()"
   ]
  },
  {
   "cell_type": "markdown",
   "metadata": {},
   "source": [
    "Now, assume, i want these 2 print statements in all the function i will create in future.\n",
    "Then writing them again and again would be quite difficult tasks.\n",
    "\n",
    "Hence, it is better to use decorator"
   ]
  },
  {
   "cell_type": "code",
   "execution_count": 13,
   "metadata": {},
   "outputs": [],
   "source": [
    "def deco(func):\n",
    "    def inner_deco():\n",
    "        print('This is the start of my function')\n",
    "        func()\n",
    "        print('This is the end of my function')\n",
    "    return inner_deco"
   ]
  },
  {
   "cell_type": "code",
   "execution_count": 14,
   "metadata": {},
   "outputs": [],
   "source": [
    "@deco\n",
    "def test1():\n",
    "    print(4+5)"
   ]
  },
  {
   "cell_type": "code",
   "execution_count": 15,
   "metadata": {},
   "outputs": [
    {
     "name": "stdout",
     "output_type": "stream",
     "text": [
      "This is the start of my function\n",
      "9\n",
      "This is the end of my function\n"
     ]
    }
   ],
   "source": [
    "test1()"
   ]
  },
  {
   "cell_type": "code",
   "execution_count": 20,
   "metadata": {},
   "outputs": [],
   "source": [
    "import time\n",
    "\n",
    "def timer_test(func):\n",
    "    def timer_test_inner():\n",
    "        start = time.time()\n",
    "        func()\n",
    "        end = time.time()\n",
    "\n",
    "        total_time = end - start\n",
    "        print(f'The amount of time this function to execute {total_time}')\n",
    "\n",
    "    return timer_test_inner"
   ]
  },
  {
   "cell_type": "code",
   "execution_count": 21,
   "metadata": {},
   "outputs": [],
   "source": [
    "@timer_test\n",
    "def test2():\n",
    "    print(4*3*6*9)"
   ]
  },
  {
   "cell_type": "code",
   "execution_count": 22,
   "metadata": {},
   "outputs": [
    {
     "name": "stdout",
     "output_type": "stream",
     "text": [
      "648\n",
      "The amount of time this function to execute 0.0\n"
     ]
    }
   ],
   "source": [
    "test2()"
   ]
  },
  {
   "cell_type": "markdown",
   "metadata": {},
   "source": [
    "### Class Method\n",
    "\n",
    "Imagine you have a special book that contains all the secrets of a magic castle. This book has many pages, and each page has different instructions for using the castle's magic.\n",
    "\n",
    "Now, let's say you want to share one of these instructions with all your friends. Instead of copying the entire book for each friend, you create a special magic mirror that can show the same page to everyone who looks into it.\n",
    "\n",
    "In programming, a class method is like a magic mirror that shows the same information to all instances (or objects) of a class. It's a special method that belongs to the class itself, not to any specific instance.\n"
   ]
  },
  {
   "cell_type": "markdown",
   "metadata": {},
   "source": [
    "Here's how it works:\n",
    "\n",
    "- You define a class method inside a class using the @classmethod decorator.\n",
    "- Inside the class method, you can access and modify class-level variables and perform operations related to the class itself.\n",
    "- You can call the class method using the class name, not an instance name. This means the same method is shared among all instances of the class."
   ]
  },
  {
   "cell_type": "markdown",
   "metadata": {},
   "source": [
    "So, class methods are like shared instructions that all instances of a class can use. They're useful for performing tasks related to the class as a whole, like creating new instances, managing class-level variables, or providing shared functionalities.\n",
    "\n",
    "For example, imagine you have a MagicCastle class. You could use a class method to create a new MagicCastle instance without needing to create an instance first. All your friends could use this class method to create their own magic castles without having to know all the details of how to build one from scratch."
   ]
  },
  {
   "cell_type": "markdown",
   "metadata": {},
   "source": [
    "Example:\n",
    "\n",
    "Imagine we have a Math class that performs various mathematical operations. We want to create a class method that can calculate the square of a number without needing to create an instance of the class. Here's how we can do it:"
   ]
  },
  {
   "cell_type": "code",
   "execution_count": 115,
   "metadata": {},
   "outputs": [],
   "source": [
    "class Math:\n",
    "\n",
    "    def __init__(self, num1, num2):\n",
    "        self.num1 = num1\n",
    "        self.num2 = num2\n",
    "        \n",
    "    @classmethod\n",
    "    def square(cls, num):\n",
    "        return num * num\n",
    "    \n",
    "    def two_times(self):\n",
    "        return 2 * self.num1"
   ]
  },
  {
   "cell_type": "code",
   "execution_count": 128,
   "metadata": {},
   "outputs": [
    {
     "name": "stdout",
     "output_type": "stream",
     "text": [
      "Square of 5 is: 25\n"
     ]
    }
   ],
   "source": [
    "# Now let's use the class method without creating an instance, we have created a variable result from class results\n",
    "result = Math.square(5)\n",
    "print(\"Square of 5 is:\", result)"
   ]
  },
  {
   "cell_type": "code",
   "execution_count": 129,
   "metadata": {},
   "outputs": [
    {
     "data": {
      "text/plain": [
       "10"
      ]
     },
     "execution_count": 129,
     "metadata": {},
     "output_type": "execute_result"
    }
   ],
   "source": [
    "# Here we are creating an object of class Math\n",
    "\n",
    "result_obj = Math(5, 5)\n",
    "result_obj.num1\n",
    "result_obj.num2\n",
    "result_obj.two_times()"
   ]
  },
  {
   "cell_type": "code",
   "execution_count": 130,
   "metadata": {},
   "outputs": [
    {
     "ename": "AttributeError",
     "evalue": "'int' object has no attribute 'two_times'",
     "output_type": "error",
     "traceback": [
      "\u001b[1;31m---------------------------------------------------------------------------\u001b[0m",
      "\u001b[1;31mAttributeError\u001b[0m                            Traceback (most recent call last)",
      "Cell \u001b[1;32mIn[130], line 1\u001b[0m\n\u001b[1;32m----> 1\u001b[0m \u001b[43mresult\u001b[49m\u001b[38;5;241;43m.\u001b[39;49m\u001b[43mtwo_times\u001b[49m() \u001b[38;5;66;03m# A variable cannot takes an object|\u001b[39;00m\n",
      "\u001b[1;31mAttributeError\u001b[0m: 'int' object has no attribute 'two_times'"
     ]
    }
   ],
   "source": [
    "result.two_times() # A variable cannot takes an object|"
   ]
  },
  {
   "cell_type": "markdown",
   "metadata": {},
   "source": [
    "`@classmethod`: Used to define a class method inside a class. Class methods have access to the class itself and can be used to create alternative constructors or perform operations related to the class."
   ]
  },
  {
   "cell_type": "code",
   "execution_count": 125,
   "metadata": {},
   "outputs": [],
   "source": [
    "class Institution1:\n",
    "    def __init__(self, name, email):\n",
    "        self.name = name\n",
    "        self.email = email\n",
    "\n",
    "    @classmethod\n",
    "    def details(cls, name1):\n",
    "        return name1\n",
    "\n",
    "    def student_details(self):\n",
    "        print(self.name, self.email)"
   ]
  },
  {
   "cell_type": "code",
   "execution_count": 131,
   "metadata": {},
   "outputs": [],
   "source": [
    "pw1 = Institution1.details('abc')"
   ]
  },
  {
   "cell_type": "code",
   "execution_count": 132,
   "metadata": {},
   "outputs": [
    {
     "ename": "AttributeError",
     "evalue": "'str' object has no attribute 'name'",
     "output_type": "error",
     "traceback": [
      "\u001b[1;31m---------------------------------------------------------------------------\u001b[0m",
      "\u001b[1;31mAttributeError\u001b[0m                            Traceback (most recent call last)",
      "Cell \u001b[1;32mIn[132], line 1\u001b[0m\n\u001b[1;32m----> 1\u001b[0m \u001b[43mpw1\u001b[49m\u001b[38;5;241;43m.\u001b[39;49m\u001b[43mname\u001b[49m \u001b[38;5;66;03m# will not execute because pw1 is a variable\u001b[39;00m\n",
      "\u001b[1;31mAttributeError\u001b[0m: 'str' object has no attribute 'name'"
     ]
    }
   ],
   "source": [
    "pw1.name # will not execute because pw1 is a variable"
   ]
  },
  {
   "cell_type": "code",
   "execution_count": 142,
   "metadata": {},
   "outputs": [],
   "source": [
    "class Institution2:\n",
    "    def __init__(self, name, email):\n",
    "        self.name = name\n",
    "        self.email = email\n",
    "\n",
    "    @classmethod\n",
    "    def details(cls, name1, email1):\n",
    "        return cls(name1, email1)\n",
    "\n",
    "    def student_details(self):\n",
    "        print(self.name, self.email)"
   ]
  },
  {
   "cell_type": "code",
   "execution_count": 143,
   "metadata": {},
   "outputs": [
    {
     "ename": "TypeError",
     "evalue": "details() missing 1 required positional argument: 'email1'",
     "output_type": "error",
     "traceback": [
      "\u001b[1;31m---------------------------------------------------------------------------\u001b[0m",
      "\u001b[1;31mTypeError\u001b[0m                                 Traceback (most recent call last)",
      "Cell \u001b[1;32mIn[143], line 1\u001b[0m\n\u001b[1;32m----> 1\u001b[0m pw1 \u001b[38;5;241m=\u001b[39m \u001b[43mInstitution2\u001b[49m\u001b[38;5;241;43m.\u001b[39;49m\u001b[43mdetails\u001b[49m\u001b[43m(\u001b[49m\u001b[38;5;124;43m'\u001b[39;49m\u001b[38;5;124;43mabc\u001b[39;49m\u001b[38;5;124;43m'\u001b[39;49m\u001b[43m)\u001b[49m \u001b[38;5;66;03m# it won't work because class method is acting as a method overloading \u001b[39;00m\n",
      "\u001b[1;31mTypeError\u001b[0m: details() missing 1 required positional argument: 'email1'"
     ]
    }
   ],
   "source": [
    "pw1 = Institution2.details('abc') # it won't work because class method is acting as a method overloading "
   ]
  },
  {
   "cell_type": "code",
   "execution_count": 144,
   "metadata": {},
   "outputs": [],
   "source": [
    "pw1 = Institution2.details('abc', 'abc@email.com') "
   ]
  },
  {
   "cell_type": "code",
   "execution_count": 149,
   "metadata": {},
   "outputs": [
    {
     "name": "stdout",
     "output_type": "stream",
     "text": [
      "<class '__main__.Institution2'>\n"
     ]
    }
   ],
   "source": [
    "print(type(pw1)) #Here you can see, it has created an object from the class"
   ]
  },
  {
   "cell_type": "code",
   "execution_count": 152,
   "metadata": {},
   "outputs": [
    {
     "name": "stdout",
     "output_type": "stream",
     "text": [
      "abc abc@email.com\n"
     ]
    }
   ],
   "source": [
    "pw1.student_details() # Notice: we defined name1, and email1 not name and email."
   ]
  },
  {
   "cell_type": "markdown",
   "metadata": {},
   "source": [
    "But how is this possible? I have defined only name1 and email1 not name and email. how the pw1 could use the student_details method? `Answer` is Method overloading, class method provides us the option of method overloading\n",
    "\n",
    "So, we can say class method is kinda alternative of __init__ constructor"
   ]
  },
  {
   "cell_type": "code",
   "execution_count": 95,
   "metadata": {},
   "outputs": [],
   "source": [
    "class Institution2:\n",
    "\n",
    "    mobile_number = 1234567890\n",
    "\n",
    "    def __init__(self, name, email):\n",
    "        self.name = name\n",
    "        self.email = email\n",
    "\n",
    "    @classmethod\n",
    "    def change_number(cls, mobile):\n",
    "        cls.mobile_number = mobile\n",
    "\n",
    "    @classmethod\n",
    "    def details(cls, name1, email1):\n",
    "        return cls(name1, email1)\n",
    "\n",
    "    def student_details(self):\n",
    "        print(self.name, self.email, Institution2.mobile_number)"
   ]
  },
  {
   "cell_type": "code",
   "execution_count": 96,
   "metadata": {},
   "outputs": [
    {
     "name": "stdout",
     "output_type": "stream",
     "text": [
      "abc abc@email.com 1234567890\n"
     ]
    }
   ],
   "source": [
    "# Here we have created an object and we can create n number of objects as such\n",
    "obj_Institution2 = Institution2('abc', 'abc@email.com')\n",
    "obj_Institution2.student_details()"
   ]
  },
  {
   "cell_type": "code",
   "execution_count": 97,
   "metadata": {},
   "outputs": [],
   "source": [
    "# We can change the phone number of the object as well\n",
    "obj_Institution2.change_number(963214775)"
   ]
  },
  {
   "cell_type": "code",
   "execution_count": 98,
   "metadata": {},
   "outputs": [
    {
     "data": {
      "text/plain": [
       "963214775"
      ]
     },
     "execution_count": 98,
     "metadata": {},
     "output_type": "execute_result"
    }
   ],
   "source": [
    "obj_Institution2.mobile_number"
   ]
  },
  {
   "cell_type": "code",
   "execution_count": 99,
   "metadata": {},
   "outputs": [
    {
     "name": "stdout",
     "output_type": "stream",
     "text": [
      "abc abc@email.com 963214775\n"
     ]
    }
   ],
   "source": [
    "# Here we have not created the object, just using the class methods to store the values in the variables\n",
    "var_Institution2 = Institution2.details('abc', 'abc@email.com')\n",
    "var_Institution2.student_details()"
   ]
  },
  {
   "cell_type": "code",
   "execution_count": 100,
   "metadata": {},
   "outputs": [
    {
     "data": {
      "text/plain": [
       "963214775"
      ]
     },
     "execution_count": 100,
     "metadata": {},
     "output_type": "execute_result"
    }
   ],
   "source": [
    "# This is a class variable\n",
    "Institution2.mobile_number"
   ]
  },
  {
   "cell_type": "code",
   "execution_count": 101,
   "metadata": {},
   "outputs": [
    {
     "data": {
      "text/plain": [
       "963214775"
      ]
     },
     "execution_count": 101,
     "metadata": {},
     "output_type": "execute_result"
    }
   ],
   "source": [
    "# This is an object variable now\n",
    "var_Institution2.mobile_number"
   ]
  },
  {
   "cell_type": "code",
   "execution_count": 102,
   "metadata": {},
   "outputs": [
    {
     "data": {
      "text/plain": [
       "963214775"
      ]
     },
     "execution_count": 102,
     "metadata": {},
     "output_type": "execute_result"
    }
   ],
   "source": [
    "# We can change the phone number of the variable as well because it is a class method\n",
    "var_Institution2.change_number(963214775)\n",
    "var_Institution2.mobile_number"
   ]
  },
  {
   "cell_type": "code",
   "execution_count": null,
   "metadata": {},
   "outputs": [],
   "source": []
  },
  {
   "cell_type": "code",
   "execution_count": null,
   "metadata": {},
   "outputs": [],
   "source": []
  },
  {
   "cell_type": "code",
   "execution_count": null,
   "metadata": {},
   "outputs": [],
   "source": []
  },
  {
   "cell_type": "code",
   "execution_count": null,
   "metadata": {},
   "outputs": [],
   "source": []
  },
  {
   "cell_type": "code",
   "execution_count": null,
   "metadata": {},
   "outputs": [],
   "source": []
  },
  {
   "cell_type": "code",
   "execution_count": null,
   "metadata": {},
   "outputs": [],
   "source": []
  },
  {
   "cell_type": "code",
   "execution_count": null,
   "metadata": {},
   "outputs": [],
   "source": []
  }
 ],
 "metadata": {
  "kernelspec": {
   "display_name": "base",
   "language": "python",
   "name": "python3"
  },
  "language_info": {
   "codemirror_mode": {
    "name": "ipython",
    "version": 3
   },
   "file_extension": ".py",
   "mimetype": "text/x-python",
   "name": "python",
   "nbconvert_exporter": "python",
   "pygments_lexer": "ipython3",
   "version": "3.9.13"
  }
 },
 "nbformat": 4,
 "nbformat_minor": 2
}
