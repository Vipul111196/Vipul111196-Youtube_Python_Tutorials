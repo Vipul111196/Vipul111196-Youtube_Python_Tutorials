{
 "cells": [
  {
   "cell_type": "markdown",
   "metadata": {},
   "source": [
    "# Welcome to Python tutorial to get a hands on experience"
   ]
  },
  {
   "cell_type": "markdown",
   "metadata": {},
   "source": [
    "### Python Lists (Part -II) [28 exercises with solution]"
   ]
  },
  {
   "cell_type": "markdown",
   "metadata": {},
   "source": [
    "The basic idea behind an object-oriented programming (OOP) is to combine both data and associated procedures (known as methods) into a single unit which operate on the data. Such a unit is called an object."
   ]
  },
  {
   "cell_type": "markdown",
   "metadata": {},
   "source": [
    "1. Write a Python program to import a built-in array module and display the namespace of the said module."
   ]
  },
  {
   "cell_type": "markdown",
   "metadata": {},
   "source": [
    "A namespace in Python is a system to ensure that all names in a program are unique and can be used without any conflict. It essentially defines the scope within which names can be referenced.\n",
    "\n",
    "In Python, namespaces can be thought of as dictionaries that map names (identifiers) to objects (values). When you define a variable, function, class, or import a module, you are adding names to a namespace."
   ]
  },
  {
   "cell_type": "code",
   "execution_count": 2,
   "metadata": {},
   "outputs": [
    {
     "name": "stdout",
     "output_type": "stream",
     "text": [
      "__name__\n",
      "__doc__\n",
      "__package__\n",
      "__loader__\n",
      "__spec__\n",
      "_array_reconstructor\n",
      "ArrayType\n",
      "array\n",
      "typecodes\n"
     ]
    }
   ],
   "source": [
    "import array\n",
    "\n",
    "for name in array.__dict__:\n",
    "    print(name)"
   ]
  },
  {
   "cell_type": "markdown",
   "metadata": {},
   "source": [
    "2.1. Write a Python program to create a class and display the namespace of that class."
   ]
  },
  {
   "cell_type": "code",
   "execution_count": 4,
   "metadata": {},
   "outputs": [
    {
     "name": "stdout",
     "output_type": "stream",
     "text": [
      "__module__\n",
      "__dict__\n",
      "__weakref__\n",
      "__doc__\n"
     ]
    }
   ],
   "source": [
    "class mathematics:\n",
    "    pass\n",
    "\n",
    "for name in mathematics.__dict__:\n",
    "    print(name)"
   ]
  },
  {
   "cell_type": "markdown",
   "metadata": {},
   "source": [
    "2.2. Write a Python program to create a class and display the namespace of that class."
   ]
  },
  {
   "cell_type": "code",
   "execution_count": 7,
   "metadata": {},
   "outputs": [
    {
     "name": "stdout",
     "output_type": "stream",
     "text": [
      "__module__\n",
      "__init__\n",
      "__dict__\n",
      "__weakref__\n",
      "__doc__\n"
     ]
    }
   ],
   "source": [
    "class physics:\n",
    "    def __init__(self, name):\n",
    "        self.name = name\n",
    "\n",
    "for name in physics.__dict__:\n",
    "    print(name)"
   ]
  },
  {
   "cell_type": "markdown",
   "metadata": {},
   "source": [
    "2.3. Write a Python program to create a class and display the namespace of that class."
   ]
  },
  {
   "cell_type": "code",
   "execution_count": 9,
   "metadata": {},
   "outputs": [
    {
     "name": "stdout",
     "output_type": "stream",
     "text": [
      "__module__\n",
      "__init__\n",
      "subname\n",
      "__dict__\n",
      "__weakref__\n",
      "__doc__\n"
     ]
    }
   ],
   "source": [
    "class chemistry:\n",
    "    def __init__(self, name):\n",
    "        self.name = name\n",
    "\n",
    "    def subname(self):\n",
    "        print(f'subject name is {self.name}')\n",
    "\n",
    "for name in chemistry.__dict__:\n",
    "    print(name)"
   ]
  },
  {
   "cell_type": "markdown",
   "metadata": {},
   "source": [
    "3. Write a Python program to create an instance of a specified class and display the namespace of the said instance."
   ]
  },
  {
   "cell_type": "code",
   "execution_count": 12,
   "metadata": {},
   "outputs": [
    {
     "name": "stdout",
     "output_type": "stream",
     "text": [
      "name\n"
     ]
    }
   ],
   "source": [
    "x = chemistry('shubham')\n",
    "\n",
    "for namespace in x.__dict__:\n",
    "    print(namespace)"
   ]
  },
  {
   "cell_type": "markdown",
   "metadata": {},
   "source": [
    "4. 'builtins' module provides direct access to all 'built-in' identifiers of Python.\n",
    "Write a Python program that imports the abs() function using the builtins module, displays the documentation of the abs() function and finds the absolute value of -155."
   ]
  },
  {
   "cell_type": "code",
   "execution_count": 18,
   "metadata": {},
   "outputs": [
    {
     "name": "stdout",
     "output_type": "stream",
     "text": [
      "Help on built-in function abs in module builtins:\n",
      "\n",
      "abs(x, /)\n",
      "    Return the absolute value of the argument.\n",
      "\n",
      "155\n"
     ]
    }
   ],
   "source": [
    "import builtins\n",
    "\n",
    "help(builtins.abs)\n",
    "x = builtins.abs(-155)\n",
    "\n",
    "print(x)"
   ]
  },
  {
   "cell_type": "markdown",
   "metadata": {},
   "source": [
    "5. Define a Python function student(). Using function attributes display the names of all arguments."
   ]
  },
  {
   "cell_type": "code",
   "execution_count": 19,
   "metadata": {},
   "outputs": [
    {
     "name": "stdout",
     "output_type": "stream",
     "text": [
      "Student ID: S122\n",
      "Student Name: Wilson Medina\n",
      "Class: VI\n"
     ]
    }
   ],
   "source": [
    "def student(student_id, student_name, student_class):\n",
    "    return f'Student ID: {student_id}\\nStudent Name: {student_name}\\nClass: {student_class}'\n",
    "print(student('S122', 'Wilson Medina', 'VI'))"
   ]
  },
  {
   "cell_type": "markdown",
   "metadata": {},
   "source": [
    "6. Write a Python function student_data () that will print the ID of a student (student_id). If the user passes an argument student_name or student_class the function will print the student name and class."
   ]
  },
  {
   "cell_type": "code",
   "execution_count": 21,
   "metadata": {},
   "outputs": [
    {
     "name": "stdout",
     "output_type": "stream",
     "text": [
      "\n",
      "Student ID: SV12\n",
      "Student Name: $ Jean Garner\n",
      "\n",
      "Student ID: SV12\n",
      "Student Name: $ Jean Garner\n",
      "\n",
      "Student Name: $ Jean Garner\n",
      "Student Class: $ V\n"
     ]
    }
   ],
   "source": [
    "# Define a function named student_data which takes a required argument student_id and an arbitrary number of keyword arguments (**kwargs)\n",
    "def student_data(student_id, **kwargs):\n",
    "    # Print the student ID\n",
    "    print(f'\\nStudent ID: {student_id}')\n",
    "    \n",
    "    # Check if 'student_name' is provided in the keyword arguments\n",
    "    if 'student_name' in kwargs:\n",
    "        # If 'student_name' is provided, print it\n",
    "        print(f\"Student Name: $ {kwargs['student_name']}\")\n",
    "    \n",
    "    # Check if both 'student_name' and 'student_class' are provided in the keyword arguments\n",
    "    if 'student_name' and 'student_class' in kwargs:\n",
    "        # If both are provided, print 'student_name' and 'student_class'\n",
    "        print(f\"\\nStudent Name: $ {kwargs['student_name']}\")\n",
    "        print(f\"Student Class: $ {kwargs['student_class']}\")\n",
    "\n",
    "# Call the function with student_id and student_name provided\n",
    "student_data(student_id='SV12', student_name='Jean Garner')\n",
    "\n",
    "# Call the function with student_id, student_name, and student_class provided\n",
    "student_data(student_id='SV12', student_name='Jean Garner', student_class='V')\n",
    "\n"
   ]
  },
  {
   "cell_type": "code",
   "execution_count": null,
   "metadata": {},
   "outputs": [],
   "source": []
  }
 ],
 "metadata": {
  "kernelspec": {
   "display_name": "base",
   "language": "python",
   "name": "python3"
  },
  "language_info": {
   "codemirror_mode": {
    "name": "ipython",
    "version": 3
   },
   "file_extension": ".py",
   "mimetype": "text/x-python",
   "name": "python",
   "nbconvert_exporter": "python",
   "pygments_lexer": "ipython3",
   "version": "3.9.13"
  }
 },
 "nbformat": 4,
 "nbformat_minor": 2
}
